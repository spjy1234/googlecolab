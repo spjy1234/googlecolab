{
  "nbformat": 4,
  "nbformat_minor": 0,
  "metadata": {
    "colab": {
      "provenance": [],
      "mount_file_id": "1rsT5EGd0G9_C1pDg4qi9W0-Kn4zUFDl-",
      "authorship_tag": "ABX9TyOWYb62sdf64qg0O2xsGwvi",
      "include_colab_link": true
    },
    "kernelspec": {
      "name": "python3",
      "display_name": "Python 3"
    },
    "language_info": {
      "name": "python"
    }
  },
  "cells": [
    {
      "cell_type": "markdown",
      "metadata": {
        "id": "view-in-github",
        "colab_type": "text"
      },
      "source": [
        "<a href=\"https://colab.research.google.com/github/spjy1234/googlecolab/blob/main/json%EB%B9%84%EA%B5%90.ipynb\" target=\"_parent\"><img src=\"https://colab.research.google.com/assets/colab-badge.svg\" alt=\"Open In Colab\"/></a>"
      ]
    },
    {
      "cell_type": "code",
      "execution_count": 97,
      "metadata": {
        "id": "GSumdcKOkj05"
      },
      "outputs": [],
      "source": [
        "historyerrors = {\"ftbccms01-01\": {\"bond0\": {\"RXerrors\": 5, \"RXdropped\": 0, \"TXerrors\": 0, \"TXdropped\": 0}, \"p7p1\": {\"RXerrors\": 5, \"RXdropped\": 0, \"TXerrors\": 0, \"TXdropped\": 0}}, \"ftbccms01-02\": {\"bond0\": {\"RXerrors\": 2268, \"RXdropped\": 0, \"TXerrors\": 0, \"TXdropped\": 0}, \"bond2\": {\"RXerrors\": 67, \"RXdropped\": 0, \"TXerrors\": 0, \"TXdropped\": 0}, \"p7p1\": {\"RXerrors\": 2268, \"RXdropped\": 0, \"TXerrors\": 0, \"TXdropped\": 0}, \"p7p3\": {\"RXerrors\": 67, \"RXdropped\": 0, \"TXerrors\": 0, \"TXdropped\": 0}}, \"ftbcCU01-01\": {\"bond0\": {\"RXerrors\": 2627, \"RXdropped\": 0, \"TXerrors\": 0, \"TXdropped\": 0}, \"bond1\": {\"RXerrors\": 2, \"RXdropped\": 0, \"TXerrors\": 0, \"TXdropped\": 0}, \"p7p1\": {\"RXerrors\": 2627, \"RXdropped\": 0, \"TXerrors\": 0, \"TXdropped\": 0}, \"p7p2\": {\"RXerrors\": 2, \"RXdropped\": 0, \"TXerrors\": 0, \"TXdropped\": 0}}, \"ftbcCU01-03\": {\"bond0\": {\"RXerrors\": 77, \"RXdropped\": 0, \"TXerrors\": 0, \"TXdropped\": 0}, \"p7p1\": {\"RXerrors\": 77, \"RXdropped\": 0, \"TXerrors\": 0, \"TXdropped\": 0}}, \"ftbcCU01-06\": {\"bond0\": {\"RXerrors\": 1076, \"RXdropped\": 0, \"TXerrors\": 0, \"TXdropped\": 0}, \"bond1\": {\"RXerrors\": 4, \"RXdropped\": 0, \"TXerrors\": 0, \"TXdropped\": 0}, \"p7p1\": {\"RXerrors\": 1076, \"RXdropped\": 0, \"TXerrors\": 0, \"TXdropped\": 0}, \"p7p2\": {\"RXerrors\": 4, \"RXdropped\": 0, \"TXerrors\": 0, \"TXdropped\": 0}}, \"ftbcCU01-07\": {\"p4p1\": {\"RXerrors\": 3, \"RXdropped\": 0, \"TXerrors\": 0, \"TXdropped\": 0}}, \"ftbcCU01-08\": {\"bond0\": {\"RXerrors\": 80, \"RXdropped\": 0, \"TXerrors\": 0, \"TXdropped\": 0}, \"bond1\": {\"RXerrors\": 1, \"RXdropped\": 0, \"TXerrors\": 0, \"TXdropped\": 0}, \"p7p1\": {\"RXerrors\": 80, \"RXdropped\": 0, \"TXerrors\": 0, \"TXdropped\": 0}, \"p7p2\": {\"RXerrors\": 1, \"RXdropped\": 0, \"TXerrors\": 0, \"TXdropped\": 0}}, \"ftbcCU01-09\": {\"bond1\": {\"RXerrors\": 2, \"RXdropped\": 0, \"TXerrors\": 0, \"TXdropped\": 0}, \"p7p2\": {\"RXerrors\": 2, \"RXdropped\": 0, \"TXerrors\": 0, \"TXdropped\": 0}}, \"ftbcCU01-10\": {\"bond0\": {\"RXerrors\": 2396, \"RXdropped\": 0, \"TXerrors\": 0, \"TXdropped\": 0}, \"bond1\": {\"RXerrors\": 1, \"RXdropped\": 0, \"TXerrors\": 0, \"TXdropped\": 0}, \"p7p1\": {\"RXerrors\": 2396, \"RXdropped\": 0, \"TXerrors\": 0, \"TXdropped\": 0}, \"p7p2\": {\"RXerrors\": 1, \"RXdropped\": 0, \"TXerrors\": 0, \"TXdropped\": 0}}, \"ftbcCU01-11\": {\"bond1\": {\"RXerrors\": 1, \"RXdropped\": 0, \"TXerrors\": 0, \"TXdropped\": 0}, \"p7p2\": {\"RXerrors\": 1, \"RXdropped\": 0, \"TXerrors\": 0, \"TXdropped\": 0}}, \"ftbcCU01-12\": {\"bond0\": {\"RXerrors\": 24727, \"RXdropped\": 0, \"TXerrors\": 0, \"TXdropped\": 0}, \"p7p1\": {\"RXerrors\": 24727, \"RXdropped\": 0, \"TXerrors\": 0, \"TXdropped\": 0}}, \"ftbcCU01-14\": {\"bond0\": {\"RXerrors\": 1987, \"RXdropped\": 0, \"TXerrors\": 0, \"TXdropped\": 0}, \"bond1\": {\"RXerrors\": 1, \"RXdropped\": 0, \"TXerrors\": 0, \"TXdropped\": 0}, \"p7p1\": {\"RXerrors\": 1987, \"RXdropped\": 0, \"TXerrors\": 0, \"TXdropped\": 0}, \"p7p2\": {\"RXerrors\": 1, \"RXdropped\": 0, \"TXerrors\": 0, \"TXdropped\": 0}}, \"ftbcCU01-15\": {\"bond1\": {\"RXerrors\": 1, \"RXdropped\": 0, \"TXerrors\": 0, \"TXdropped\": 0}, \"p7p2\": {\"RXerrors\": 1, \"RXdropped\": 0, \"TXerrors\": 0, \"TXdropped\": 0}}, \"ftbcCU01-16\": {\"bond0\": {\"RXerrors\": 77, \"RXdropped\": 0, \"TXerrors\": 0, \"TXdropped\": 0}, \"bond1\": {\"RXerrors\": 3, \"RXdropped\": 0, \"TXerrors\": 0, \"TXdropped\": 0}, \"p4p1\": {\"RXerrors\": 1, \"RXdropped\": 0, \"TXerrors\": 0, \"TXdropped\": 0}, \"p7p1\": {\"RXerrors\": 77, \"RXdropped\": 0, \"TXerrors\": 0, \"TXdropped\": 0}, \"p7p2\": {\"RXerrors\": 3, \"RXdropped\": 0, \"TXerrors\": 0, \"TXdropped\": 0}}, \"ftbcCU01-17\": {\"bond1\": {\"RXerrors\": 1, \"RXdropped\": 0, \"TXerrors\": 0, \"TXdropped\": 0}, \"p7p2\": {\"RXerrors\": 1, \"RXdropped\": 0, \"TXerrors\": 0, \"TXdropped\": 0}}, \"ftbcCU01-22\": {\"bond1\": {\"RXerrors\": 2, \"RXdropped\": 0, \"TXerrors\": 0, \"TXdropped\": 0}, \"p7p2\": {\"RXerrors\": 2, \"RXdropped\": 0, \"TXerrors\": 0, \"TXdropped\": 0}}, \"ftbcCU01-25\": {\"bond0\": {\"RXerrors\": 7161, \"RXdropped\": 0, \"TXerrors\": 0, \"TXdropped\": 0}, \"em1\": {\"RXerrors\": 7161, \"RXdropped\": 0, \"TXerrors\": 0, \"TXdropped\": 0}}, \"kngnCU01-08\": {\"p4p1\": {\"RXerrors\": 1, \"RXdropped\": 0, \"TXerrors\": 0, \"TXdropped\": 0}}, \"kngnCU01-20\": {\"bond0\": {\"RXerrors\": 67, \"RXdropped\": 0, \"TXerrors\": 0, \"TXdropped\": 0}, \"p7p1\": {\"RXerrors\": 67, \"RXdropped\": 0, \"TXerrors\": 0, \"TXdropped\": 0}}, \"ngy1cms01-01\": {\"bond4\": {\"RXerrors\": 11, \"RXdropped\": 0, \"TXerrors\": 0, \"TXdropped\": 0}, \"p4p2\": {\"RXerrors\": 11, \"RXdropped\": 0, \"TXerrors\": 0, \"TXdropped\": 0}}, \"ngy1cms01-02\": {\"bond4\": {\"RXerrors\": 11, \"RXdropped\": 0, \"TXerrors\": 0, \"TXdropped\": 0}, \"p4p2\": {\"RXerrors\": 11, \"RXdropped\": 0, \"TXerrors\": 0, \"TXdropped\": 0}}, \"ngy1cms02-01\": {\"bond4\": {\"RXerrors\": 1, \"RXdropped\": 0, \"TXerrors\": 0, \"TXdropped\": 0}, \"p4p2\": {\"RXerrors\": 1, \"RXdropped\": 0, \"TXerrors\": 0, \"TXdropped\": 0}}, \"ngy1cms02-02\": {\"bond4\": {\"RXerrors\": 1, \"RXdropped\": 0, \"TXerrors\": 0, \"TXdropped\": 0}, \"p4p2\": {\"RXerrors\": 1, \"RXdropped\": 0, \"TXerrors\": 0, \"TXdropped\": 0}}, \"ngy1CU01-19\": {\"bond2\": {\"RXerrors\": 87, \"RXdropped\": 0, \"TXerrors\": 0, \"TXdropped\": 0}, \"p4p1\": {\"RXerrors\": 15, \"RXdropped\": 0, \"TXerrors\": 0, \"TXdropped\": 0}, \"p7p3\": {\"RXerrors\": 87, \"RXdropped\": 0, \"TXerrors\": 0, \"TXdropped\": 0}}, \"ngy1CU01-20\": {\"bond1\": {\"RXerrors\": 12, \"RXdropped\": 0, \"TXerrors\": 0, \"TXdropped\": 0}, \"p7p2\": {\"RXerrors\": 12, \"RXdropped\": 0, \"TXerrors\": 0, \"TXdropped\": 0}}, \"ngy1CU02-26\": {\"bond1\": {\"RXerrors\": 38, \"RXdropped\": 0, \"TXerrors\": 0, \"TXdropped\": 0}, \"p7p2\": {\"RXerrors\": 38, \"RXdropped\": 0, \"TXerrors\": 0, \"TXdropped\": 0}}, \"ngy1CU02-27\": {\"bond1\": {\"RXerrors\": 45, \"RXdropped\": 0, \"TXerrors\": 0, \"TXdropped\": 0}, \"p7p2\": {\"RXerrors\": 45, \"RXdropped\": 0, \"TXerrors\": 0, \"TXdropped\": 0}}, \"ngy1CU02-29\": {\"bond1\": {\"RXerrors\": 1, \"RXdropped\": 0, \"TXerrors\": 0, \"TXdropped\": 0}, \"bond2\": {\"RXerrors\": 12, \"RXdropped\": 0, \"TXerrors\": 0, \"TXdropped\": 0}, \"em2\": {\"RXerrors\": 1, \"RXdropped\": 0, \"TXerrors\": 0, \"TXdropped\": 0}, \"em3\": {\"RXerrors\": 1, \"RXdropped\": 0, \"TXerrors\": 0, \"TXdropped\": 0}, \"p7p3\": {\"RXerrors\": 11, \"RXdropped\": 0, \"TXerrors\": 0, \"TXdropped\": 0}}, \"osc1CSPS02-01\": {\"bond0\": {\"RXerrors\": 0, \"RXdropped\": 30019655, \"TXerrors\": 0, \"TXdropped\": 0}, \"bond2\": {\"RXerrors\": 0, \"RXdropped\": 31204375, \"TXerrors\": 0, \"TXdropped\": 0}, \"lbr-hb\": {\"RXerrors\": 0, \"RXdropped\": 6240875, \"TXerrors\": 0, \"TXdropped\": 0}, \"lbr-nbi\": {\"RXerrors\": 0, \"RXdropped\": 6003931, \"TXerrors\": 0, \"TXdropped\": 0}}, \"osc1CSPS02-02\": {\"bond0\": {\"RXerrors\": 0, \"RXdropped\": 80652418, \"TXerrors\": 0, \"TXdropped\": 0}, \"bond2\": {\"RXerrors\": 0, \"RXdropped\": 84104185, \"TXerrors\": 0, \"TXdropped\": 0}, \"lbr-hb\": {\"RXerrors\": 0, \"RXdropped\": 17669863, \"TXerrors\": 0, \"TXdropped\": 0}, \"lbr-nbi\": {\"RXerrors\": 0, \"RXdropped\": 16930646, \"TXerrors\": 0, \"TXdropped\": 0}}, \"osc1CU01-14\": {\"p4p1\": {\"RXerrors\": 69338256, \"RXdropped\": 0, \"TXerrors\": 0, \"TXdropped\": 0}}, \"osc1DCM02-01\": {\"bond1\": {\"RXerrors\": 0, \"RXdropped\": 2745, \"TXerrors\": 0, \"TXdropped\": 0}, \"bond0.411\": {\"RXerrors\": 0, \"RXdropped\": 5320292, \"TXerrors\": 0, \"TXdropped\": 0}, \"bond2.409\": {\"RXerrors\": 0, \"RXdropped\": 6070344, \"TXerrors\": 0, \"TXdropped\": 0}, \"em2.410\": {\"RXerrors\": 0, \"RXdropped\": 16448709, \"TXerrors\": 0, \"TXdropped\": 0}, \"p1p2\": {\"RXerrors\": 0, \"RXdropped\": 2745, \"TXerrors\": 0, \"TXdropped\": 0}, \"p2p2.410\": {\"RXerrors\": 0, \"RXdropped\": 5320293, \"TXerrors\": 0, \"TXdropped\": 0}}, \"osc1DCM02-02\": {\"bond0.411\": {\"RXerrors\": 0, \"RXdropped\": 5320835, \"TXerrors\": 0, \"TXdropped\": 0}, \"bond2.409\": {\"RXerrors\": 0, \"RXdropped\": 6070962, \"TXerrors\": 0, \"TXdropped\": 0}, \"em2.410\": {\"RXerrors\": 0, \"RXdropped\": 16449826, \"TXerrors\": 0, \"TXdropped\": 0}, \"p2p2.410\": {\"RXerrors\": 0, \"RXdropped\": 5320837, \"TXerrors\": 0, \"TXdropped\": 0}}, \"osc1DCM02-03\": {\"bond0\": {\"RXerrors\": 1, \"RXdropped\": 0, \"TXerrors\": 0, \"TXdropped\": 0}, \"bond0.411\": {\"RXerrors\": 0, \"RXdropped\": 4180598, \"TXerrors\": 0, \"TXdropped\": 0}, \"bond2.409\": {\"RXerrors\": 0, \"RXdropped\": 4729485, \"TXerrors\": 0, \"TXdropped\": 0}, \"em2.410\": {\"RXerrors\": 0, \"RXdropped\": 13844212, \"TXerrors\": 0, \"TXdropped\": 0}, \"p1p1\": {\"RXerrors\": 1, \"RXdropped\": 0, \"TXerrors\": 0, \"TXdropped\": 0}, \"p2p2.410\": {\"RXerrors\": 0, \"RXdropped\": 4179651, \"TXerrors\": 0, \"TXdropped\": 0}}, \"osc1EMS02-01\": {\"bond0\": {\"RXerrors\": 0, \"RXdropped\": 6638, \"TXerrors\": 0, \"TXdropped\": 0}, \"p1p1\": {\"RXerrors\": 0, \"RXdropped\": 6638, \"TXerrors\": 0, \"TXdropped\": 0}, \"tap303a2baa-3b\": {\"RXerrors\": 0, \"RXdropped\": 0, \"TXerrors\": 0, \"TXdropped\": 860}, \"tapd0ac5593-89\": {\"RXerrors\": 0, \"RXdropped\": 0, \"TXerrors\": 0, \"TXdropped\": 106}}, \"osc1EMS02-02\": {\"bond1\": {\"RXerrors\": 0, \"RXdropped\": 981, \"TXerrors\": 0, \"TXdropped\": 0}, \"p1p2\": {\"RXerrors\": 0, \"RXdropped\": 981, \"TXerrors\": 0, \"TXdropped\": 0}, \"tap45f82873-b4\": {\"RXerrors\": 0, \"RXdropped\": 0, \"TXerrors\": 0, \"TXdropped\": 232061}}, \"osc1EMS02-07\": {\"tape79b7566-6e\": {\"RXerrors\": 0, \"RXdropped\": 0, \"TXerrors\": 0, \"TXdropped\": 6585}}, \"osc1EMS02-08\": {\"tapa96574b5-ce\": {\"RXerrors\": 0, \"RXdropped\": 0, \"TXerrors\": 0, \"TXdropped\": 6645}}, \"osc1EMS02-09\": {\"tapb572c3ef-fe\": {\"RXerrors\": 0, \"RXdropped\": 0, \"TXerrors\": 0, \"TXdropped\": 3304}}, \"osc1EMSR01-01\": {\"bond0\": {\"RXerrors\": 0, \"RXdropped\": 177, \"TXerrors\": 0, \"TXdropped\": 0}, \"p1p1\": {\"RXerrors\": 0, \"RXdropped\": 177, \"TXerrors\": 0, \"TXdropped\": 0}, \"tap864ff716-41\": {\"RXerrors\": 0, \"RXdropped\": 0, \"TXerrors\": 0, \"TXdropped\": 532}}, \"osc1EMSR01-04\": {\"tap984136dc-c2\": {\"RXerrors\": 0, \"RXdropped\": 0, \"TXerrors\": 0, \"TXdropped\": 12964}}, \"osc1EMSR01-06\": {\"bond1\": {\"RXerrors\": 1, \"RXdropped\": 0, \"TXerrors\": 0, \"TXdropped\": 0}, \"p2p1\": {\"RXerrors\": 1, \"RXdropped\": 0, \"TXerrors\": 0, \"TXdropped\": 0}}, \"osc1EMSR01-07\": {\"tapf2590ccf-37\": {\"RXerrors\": 0, \"RXdropped\": 0, \"TXerrors\": 0, \"TXdropped\": 6352}}, \"osc1MDT02-06\": {\"em4\": {\"RXerrors\": 0, \"RXdropped\": 17829, \"TXerrors\": 0, \"TXdropped\": 0}}, \"osc1vDB0002-01\": {\"bond1\": {\"RXerrors\": 0, \"RXdropped\": 20, \"TXerrors\": 0, \"TXdropped\": 0}, \"p1p2\": {\"RXerrors\": 0, \"RXdropped\": 20, \"TXerrors\": 0, \"TXdropped\": 0}, \"tapefa9bc14-57\": {\"RXerrors\": 0, \"RXdropped\": 0, \"TXerrors\": 0, \"TXdropped\": 4705}}, \"osc1vDB0104-01\": {\"tapb5e0dde0-f3\": {\"RXerrors\": 0, \"RXdropped\": 0, \"TXerrors\": 0, \"TXdropped\": 262}}, \"osc1vDB0206-01\": {\"tap33b51873-d8\": {\"RXerrors\": 0, \"RXdropped\": 0, \"TXerrors\": 0, \"TXdropped\": 4650}}, \"osc1vDB0308-01\": {\"tap0666cd71-53\": {\"RXerrors\": 0, \"RXdropped\": 0, \"TXerrors\": 0, \"TXdropped\": 203}}, \"osc1vDB0512-01\": {\"tap1ca4e04b-26\": {\"RXerrors\": 0, \"RXdropped\": 0, \"TXerrors\": 0, \"TXdropped\": 1695}, \"tapd008c51e-12\": {\"RXerrors\": 0, \"RXdropped\": 0, \"TXerrors\": 0, \"TXdropped\": 28}}, \"osc1vDB0512-02\": {\"tapdc3ab1e9-20\": {\"RXerrors\": 0, \"RXdropped\": 0, \"TXerrors\": 0, \"TXdropped\": 1643}}, \"snr1CU01-20\": {\"bond0\": {\"RXerrors\": 24, \"RXdropped\": 0, \"TXerrors\": 0, \"TXdropped\": 0}, \"bond1\": {\"RXerrors\": 1, \"RXdropped\": 0, \"TXerrors\": 0, \"TXdropped\": 0}, \"p7p1\": {\"RXerrors\": 24, \"RXdropped\": 0, \"TXerrors\": 0, \"TXdropped\": 0}, \"p7p2\": {\"RXerrors\": 1, \"RXdropped\": 0, \"TXerrors\": 0, \"TXdropped\": 0}}, \"snr1CU01-25\": {\"bond1\": {\"RXerrors\": 1, \"RXdropped\": 0, \"TXerrors\": 0, \"TXdropped\": 0}, \"p7p2\": {\"RXerrors\": 1, \"RXdropped\": 0, \"TXerrors\": 0, \"TXdropped\": 0}}, \"stmnCU01-09\": {\"p4p2\": {\"RXerrors\": 1139, \"RXdropped\": 0, \"TXerrors\": 0, \"TXdropped\": 0}}, \"stmnCU01-18\": {\"bond2\": {\"RXerrors\": 1, \"RXdropped\": 0, \"TXerrors\": 0, \"TXdropped\": 0}, \"em3\": {\"RXerrors\": 1, \"RXdropped\": 0, \"TXerrors\": 0, \"TXdropped\": 0}}, \"tam4cms01-01\": {\"bond0\": {\"RXerrors\": 450, \"RXdropped\": 0, \"TXerrors\": 0, \"TXdropped\": 0}, \"p7p1\": {\"RXerrors\": 450, \"RXdropped\": 0, \"TXerrors\": 0, \"TXdropped\": 0}}, \"tam4CSPS01-01\": {\"bond0\": {\"RXerrors\": 7791, \"RXdropped\": 85764352, \"TXerrors\": 0, \"TXdropped\": 0}, \"bond2\": {\"RXerrors\": 0, \"RXdropped\": 89420045, \"TXerrors\": 0, \"TXdropped\": 0}, \"lbr-hb\": {\"RXerrors\": 0, \"RXdropped\": 18796168, \"TXerrors\": 0, \"TXdropped\": 0}, \"lbr-nbi\": {\"RXerrors\": 0, \"RXdropped\": 18018659, \"TXerrors\": 0, \"TXdropped\": 0}, \"p1p2\": {\"RXerrors\": 7791, \"RXdropped\": 0, \"TXerrors\": 0, \"TXdropped\": 0}}, \"tam4CSPS01-02\": {\"bond0\": {\"RXerrors\": 0, \"RXdropped\": 86004416, \"TXerrors\": 0, \"TXdropped\": 0}, \"bond2\": {\"RXerrors\": 0, \"RXdropped\": 89414811, \"TXerrors\": 0, \"TXdropped\": 0}, \"lbr-hb\": {\"RXerrors\": 0, \"RXdropped\": 18796290, \"TXerrors\": 0, \"TXdropped\": 0}, \"lbr-nbi\": {\"RXerrors\": 0, \"RXdropped\": 18069911, \"TXerrors\": 0, \"TXdropped\": 0}}, \"tam4DCM01-01\": {\"bond0\": {\"RXerrors\": 4200, \"RXdropped\": 0, \"TXerrors\": 0, \"TXdropped\": 0}, \"bond1\": {\"RXerrors\": 0, \"RXdropped\": 210, \"TXerrors\": 0, \"TXdropped\": 0}, \"p1p1\": {\"RXerrors\": 4200, \"RXdropped\": 0, \"TXerrors\": 0, \"TXdropped\": 0}, \"p1p2\": {\"RXerrors\": 0, \"RXdropped\": 210, \"TXerrors\": 0, \"TXdropped\": 0}}, \"tam4DCM01-02\": {\"bond0\": {\"RXerrors\": 1, \"RXdropped\": 0, \"TXerrors\": 0, \"TXdropped\": 0}, \"p1p1\": {\"RXerrors\": 1, \"RXdropped\": 0, \"TXerrors\": 0, \"TXdropped\": 0}}, \"tam4DCM01-04\": {\"bond0\": {\"RXerrors\": 4116, \"RXdropped\": 0, \"TXerrors\": 0, \"TXdropped\": 0}, \"p1p1\": {\"RXerrors\": 4116, \"RXdropped\": 0, \"TXerrors\": 0, \"TXdropped\": 0}}, \"tam4DCM01-05\": {\"bond0\": {\"RXerrors\": 4018, \"RXdropped\": 0, \"TXerrors\": 0, \"TXdropped\": 0}, \"p1p1\": {\"RXerrors\": 4018, \"RXdropped\": 0, \"TXerrors\": 0, \"TXdropped\": 0}}, \"tam4DCM01-06\": {\"bond0\": {\"RXerrors\": 4214, \"RXdropped\": 0, \"TXerrors\": 0, \"TXdropped\": 0}, \"p1p1\": {\"RXerrors\": 4214, \"RXdropped\": 0, \"TXerrors\": 0, \"TXdropped\": 0}}, \"tam4EMS01-01\": {\"bond0\": {\"RXerrors\": 0, \"RXdropped\": 2666, \"TXerrors\": 0, \"TXdropped\": 0}, \"p1p1\": {\"RXerrors\": 0, \"RXdropped\": 2666, \"TXerrors\": 0, \"TXdropped\": 0}, \"tapa473d6c5-35\": {\"RXerrors\": 0, \"RXdropped\": 0, \"TXerrors\": 0, \"TXdropped\": 851}, \"tapa4cf8da4-e9\": {\"RXerrors\": 0, \"RXdropped\": 0, \"TXerrors\": 0, \"TXdropped\": 377}}, \"tam4EMS01-02\": {\"bond0\": {\"RXerrors\": 11515, \"RXdropped\": 0, \"TXerrors\": 0, \"TXdropped\": 0}, \"p1p1\": {\"RXerrors\": 11515, \"RXdropped\": 0, \"TXerrors\": 0, \"TXdropped\": 0}, \"tapc9526fc8-5c\": {\"RXerrors\": 0, \"RXdropped\": 0, \"TXerrors\": 0, \"TXdropped\": 223415}}, \"tam4EMS01-03\": {\"bond0\": {\"RXerrors\": 32, \"RXdropped\": 0, \"TXerrors\": 0, \"TXdropped\": 0}, \"p1p1\": {\"RXerrors\": 32, \"RXdropped\": 0, \"TXerrors\": 0, \"TXdropped\": 0}, \"tap7f38ee0a-b1\": {\"RXerrors\": 0, \"RXdropped\": 0, \"TXerrors\": 0, \"TXdropped\": 26371}}, \"tam4EMS01-04\": {\"bond0\": {\"RXerrors\": 172, \"RXdropped\": 0, \"TXerrors\": 0, \"TXdropped\": 0}, \"p1p1\": {\"RXerrors\": 172, \"RXdropped\": 0, \"TXerrors\": 0, \"TXdropped\": 0}}, \"tam4EMS01-08\": {\"tapd2c4c33c-d9\": {\"RXerrors\": 0, \"RXdropped\": 0, \"TXerrors\": 0, \"TXdropped\": 6501}}, \"tam4EMS01-09\": {\"bond0\": {\"RXerrors\": 11618, \"RXdropped\": 0, \"TXerrors\": 0, \"TXdropped\": 0}, \"bond1\": {\"RXerrors\": 2116, \"RXdropped\": 0, \"TXerrors\": 0, \"TXdropped\": 0}, \"p1p1\": {\"RXerrors\": 11618, \"RXdropped\": 0, \"TXerrors\": 0, \"TXdropped\": 0}, \"p2p1\": {\"RXerrors\": 2116, \"RXdropped\": 0, \"TXerrors\": 0, \"TXdropped\": 0}, \"tapde4f79e5-25\": {\"RXerrors\": 0, \"RXdropped\": 0, \"TXerrors\": 0, \"TXdropped\": 33}}, \"tam4EMS01-10\": {\"bond0\": {\"RXerrors\": 20, \"RXdropped\": 0, \"TXerrors\": 0, \"TXdropped\": 0}, \"p1p1\": {\"RXerrors\": 20, \"RXdropped\": 0, \"TXerrors\": 0, \"TXdropped\": 0}}, \"tam4EMS01-11\": {\"tap2a5c02ba-63\": {\"RXerrors\": 0, \"RXdropped\": 0, \"TXerrors\": 0, \"TXdropped\": 6503}}, \"tam4EMS01-12\": {\"bond0\": {\"RXerrors\": 16677, \"RXdropped\": 0, \"TXerrors\": 0, \"TXdropped\": 0}, \"p1p1\": {\"RXerrors\": 16677, \"RXdropped\": 0, \"TXerrors\": 0, \"TXdropped\": 0}, \"tapd9e080ac-dc\": {\"RXerrors\": 0, \"RXdropped\": 0, \"TXerrors\": 0, \"TXdropped\": 66954}}, \"tam4EMS01-13\": {\"bond0\": {\"RXerrors\": 25, \"RXdropped\": 0, \"TXerrors\": 0, \"TXdropped\": 0}, \"p1p1\": {\"RXerrors\": 25, \"RXdropped\": 0, \"TXerrors\": 0, \"TXdropped\": 0}}, \"tam4EMS01-16\": {\"bond0\": {\"RXerrors\": 15, \"RXdropped\": 0, \"TXerrors\": 0, \"TXdropped\": 0}, \"p1p1\": {\"RXerrors\": 15, \"RXdropped\": 0, \"TXerrors\": 0, \"TXdropped\": 0}}, \"tam4EMS01-19\": {\"bond0\": {\"RXerrors\": 32, \"RXdropped\": 0, \"TXerrors\": 0, \"TXdropped\": 0}, \"p1p1\": {\"RXerrors\": 32, \"RXdropped\": 0, \"TXerrors\": 0, \"TXdropped\": 0}}, \"tam4EMS01-21\": {\"bond0\": {\"RXerrors\": 6, \"RXdropped\": 0, \"TXerrors\": 0, \"TXdropped\": 0}, \"p1p1\": {\"RXerrors\": 6, \"RXdropped\": 0, \"TXerrors\": 0, \"TXdropped\": 0}}, \"tam4EMSR02-01\": {\"bond0\": {\"RXerrors\": 4081, \"RXdropped\": 493, \"TXerrors\": 0, \"TXdropped\": 0}, \"p1p1\": {\"RXerrors\": 4081, \"RXdropped\": 493, \"TXerrors\": 0, \"TXdropped\": 0}}, \"tam4EMSR02-03\": {\"bond1\": {\"RXerrors\": 2, \"RXdropped\": 0, \"TXerrors\": 0, \"TXdropped\": 0}, \"p2p1\": {\"RXerrors\": 2, \"RXdropped\": 0, \"TXerrors\": 0, \"TXdropped\": 0}}, \"tam4EMSR02-04\": {\"tapadcf7943-b1\": {\"RXerrors\": 0, \"RXdropped\": 0, \"TXerrors\": 0, \"TXdropped\": 13914}}, \"tam4vDB0001-01\": {\"tap5e8f9cf0-a5\": {\"RXerrors\": 0, \"RXdropped\": 0, \"TXerrors\": 0, \"TXdropped\": 2625}, \"taped4c0b3f-e1\": {\"RXerrors\": 0, \"RXdropped\": 0, \"TXerrors\": 0, \"TXdropped\": 2919}}, \"tam4vDB0101-02\": {\"tap708bfa3f-58\": {\"RXerrors\": 0, \"RXdropped\": 0, \"TXerrors\": 0, \"TXdropped\": 2869}, \"tap757d27d1-09\": {\"RXerrors\": 0, \"RXdropped\": 0, \"TXerrors\": 0, \"TXdropped\": 2548}}, \"tam4vDB0103-01\": {\"tap1d23b046-fb\": {\"RXerrors\": 0, \"RXdropped\": 0, \"TXerrors\": 0, \"TXdropped\": 2501}}, \"tam4vDB0103-02\": {\"tap0fe085d4-be\": {\"RXerrors\": 0, \"RXdropped\": 0, \"TXerrors\": 0, \"TXdropped\": 2464}}, \"tam4vDB0205-01\": {\"tapbc65da66-21\": {\"RXerrors\": 0, \"RXdropped\": 0, \"TXerrors\": 0, \"TXdropped\": 2997}, \"tape40ef006-63\": {\"RXerrors\": 0, \"RXdropped\": 0, \"TXerrors\": 0, \"TXdropped\": 2566}}, \"tam4vDB0205-02\": {\"tap4e56295f-db\": {\"RXerrors\": 0, \"RXdropped\": 0, \"TXerrors\": 0, \"TXdropped\": 2703}}, \"tam4vDB0307-01\": {\"tap04b58246-a9\": {\"RXerrors\": 0, \"RXdropped\": 0, \"TXerrors\": 0, \"TXdropped\": 2472}, \"tap6cd00e53-2b\": {\"RXerrors\": 0, \"RXdropped\": 0, \"TXerrors\": 0, \"TXdropped\": 2785}}, \"tam4vDB0307-02\": {\"tap4a29cb1a-f8\": {\"RXerrors\": 0, \"RXdropped\": 0, \"TXerrors\": 0, \"TXdropped\": 2857}, \"tapce21e6da-97\": {\"RXerrors\": 0, \"RXdropped\": 0, \"TXerrors\": 0, \"TXdropped\": 2549}}, \"tam5sDCM01-01\": {\"bond0\": {\"RXerrors\": 4480, \"RXdropped\": 0, \"TXerrors\": 0, \"TXdropped\": 0}, \"p1p1\": {\"RXerrors\": 4480, \"RXdropped\": 0, \"TXerrors\": 0, \"TXdropped\": 0}}, \"tam5sDCM01-03\": {\"bond1\": {\"RXerrors\": 727194, \"RXdropped\": 0, \"TXerrors\": 0, \"TXdropped\": 0}, \"p2p1\": {\"RXerrors\": 727194, \"RXdropped\": 0, \"TXerrors\": 0, \"TXdropped\": 0}}, \"tam5sEMS01-01\": {\"bond0\": {\"RXerrors\": 3396, \"RXdropped\": 0, \"TXerrors\": 0, \"TXdropped\": 0}, \"p1p1\": {\"RXerrors\": 3396, \"RXdropped\": 0, \"TXerrors\": 0, \"TXdropped\": 0}, \"tapfefd183b-82\": {\"RXerrors\": 0, \"RXdropped\": 0, \"TXerrors\": 0, \"TXdropped\": 193}}, \"tam5sEMS01-02\": {\"bond0\": {\"RXerrors\": 178, \"RXdropped\": 0, \"TXerrors\": 0, \"TXdropped\": 0}, \"p1p1\": {\"RXerrors\": 178, \"RXdropped\": 0, \"TXerrors\": 0, \"TXdropped\": 0}}, \"tam5sEMSR01-01\": {\"bond0\": {\"RXerrors\": 193, \"RXdropped\": 0, \"TXerrors\": 0, \"TXdropped\": 0}, \"p1p1\": {\"RXerrors\": 193, \"RXdropped\": 0, \"TXerrors\": 0, \"TXdropped\": 0}}, \"tam5vDB0511-01\": {\"tap9407ba3f-38\": {\"RXerrors\": 0, \"RXdropped\": 0, \"TXerrors\": 0, \"TXdropped\": 3}}, \"tam5vDB0511-02\": {\"tap9b2a7e95-84\": {\"RXerrors\": 0, \"RXdropped\": 0, \"TXerrors\": 0, \"TXdropped\": 85}}, \"tkyncms01-01\": {\"bond3\": {\"RXerrors\": 1, \"RXdropped\": 0, \"TXerrors\": 0, \"TXdropped\": 0}, \"p4p1\": {\"RXerrors\": 1, \"RXdropped\": 0, \"TXerrors\": 0, \"TXdropped\": 0}, \"vnet3\": {\"RXerrors\": 0, \"RXdropped\": 0, \"TXerrors\": 0, \"TXdropped\": 20159147}, \"vnet4\": {\"RXerrors\": 0, \"RXdropped\": 0, \"TXerrors\": 0, \"TXdropped\": 59331881}, \"vnet5\": {\"RXerrors\": 0, \"RXdropped\": 0, \"TXerrors\": 0, \"TXdropped\": 216840553}}, \"tkyncms01-02\": {\"vnet3\": {\"RXerrors\": 0, \"RXdropped\": 0, \"TXerrors\": 0, \"TXdropped\": 20388089}, \"vnet4\": {\"RXerrors\": 0, \"RXdropped\": 0, \"TXerrors\": 0, \"TXdropped\": 59205060}, \"vnet5\": {\"RXerrors\": 0, \"RXdropped\": 0, \"TXerrors\": 0, \"TXdropped\": 216855550}}, \"tkynCU01-18\": {\"bond0\": {\"RXerrors\": 7121, \"RXdropped\": 0, \"TXerrors\": 0, \"TXdropped\": 0}, \"em1\": {\"RXerrors\": 7121, \"RXdropped\": 0, \"TXerrors\": 0, \"TXdropped\": 0}}}"
      ]
    },
    {
      "cell_type": "code",
      "source": [
        "todayerrors = {\"ftbccms01-01\": {\"bond0\": {\"RXerrors\": 5, \"RXdropped\": 0, \"TXerrors\": 0, \"TXdropped\": 0}, \"p7p1\": {\"RXerrors\": 5, \"RXdropped\": 0, \"TXerrors\": 0, \"TXdropped\": 0}}, \"ftbccms01-02\": {\"bond0\": {\"RXerrors\": 2268, \"RXdropped\": 0, \"TXerrors\": 0, \"TXdropped\": 0}, \"bond2\": {\"RXerrors\": 67, \"RXdropped\": 0, \"TXerrors\": 0, \"TXdropped\": 0}, \"p7p1\": {\"RXerrors\": 2268, \"RXdropped\": 0, \"TXerrors\": 0, \"TXdropped\": 0}, \"p7p3\": {\"RXerrors\": 67, \"RXdropped\": 0, \"TXerrors\": 0, \"TXdropped\": 0}}, \"ftbcCU01-01\": {\"bond0\": {\"RXerrors\": 2627, \"RXdropped\": 0, \"TXerrors\": 0, \"TXdropped\": 0}, \"bond1\": {\"RXerrors\": 2, \"RXdropped\": 0, \"TXerrors\": 0, \"TXdropped\": 0}, \"p7p1\": {\"RXerrors\": 2627, \"RXdropped\": 0, \"TXerrors\": 0, \"TXdropped\": 0}, \"p7p2\": {\"RXerrors\": 2, \"RXdropped\": 0, \"TXerrors\": 0, \"TXdropped\": 0}}, \"ftbcCU01-03\": {\"bond0\": {\"RXerrors\": 77, \"RXdropped\": 0, \"TXerrors\": 0, \"TXdropped\": 0}, \"p7p1\": {\"RXerrors\": 77, \"RXdropped\": 0, \"TXerrors\": 0, \"TXdropped\": 0}}, \"ftbcCU01-06\": {\"bond0\": {\"RXerrors\": 1076, \"RXdropped\": 0, \"TXerrors\": 0, \"TXdropped\": 0}, \"bond1\": {\"RXerrors\": 4, \"RXdropped\": 0, \"TXerrors\": 0, \"TXdropped\": 0}, \"p7p1\": {\"RXerrors\": 1076, \"RXdropped\": 0, \"TXerrors\": 0, \"TXdropped\": 0}, \"p7p2\": {\"RXerrors\": 4, \"RXdropped\": 0, \"TXerrors\": 0, \"TXdropped\": 0}}, \"ftbcCU01-07\": {\"p4p1\": {\"RXerrors\": 3, \"RXdropped\": 0, \"TXerrors\": 0, \"TXdropped\": 0}}, \"ftbcCU01-08\": {\"bond0\": {\"RXerrors\": 80, \"RXdropped\": 0, \"TXerrors\": 0, \"TXdropped\": 0}, \"bond1\": {\"RXerrors\": 1, \"RXdropped\": 0, \"TXerrors\": 0, \"TXdropped\": 0}, \"p7p1\": {\"RXerrors\": 80, \"RXdropped\": 0, \"TXerrors\": 0, \"TXdropped\": 0}, \"p7p2\": {\"RXerrors\": 1, \"RXdropped\": 0, \"TXerrors\": 0, \"TXdropped\": 0}}, \"ftbcCU01-09\": {\"bond1\": {\"RXerrors\": 2, \"RXdropped\": 0, \"TXerrors\": 0, \"TXdropped\": 0}, \"p7p2\": {\"RXerrors\": 2, \"RXdropped\": 0, \"TXerrors\": 0, \"TXdropped\": 0}}, \"ftbcCU01-10\": {\"bond0\": {\"RXerrors\": 2396, \"RXdropped\": 0, \"TXerrors\": 0, \"TXdropped\": 0}, \"bond1\": {\"RXerrors\": 1, \"RXdropped\": 0, \"TXerrors\": 0, \"TXdropped\": 0}, \"p7p1\": {\"RXerrors\": 2396, \"RXdropped\": 0, \"TXerrors\": 0, \"TXdropped\": 0}, \"p7p2\": {\"RXerrors\": 1, \"RXdropped\": 0, \"TXerrors\": 0, \"TXdropped\": 0}}, \"ftbcCU01-11\": {\"bond1\": {\"RXerrors\": 1, \"RXdropped\": 0, \"TXerrors\": 0, \"TXdropped\": 0}, \"p7p2\": {\"RXerrors\": 1, \"RXdropped\": 0, \"TXerrors\": 0, \"TXdropped\": 0}}, \"ftbcCU01-12\": {\"bond0\": {\"RXerrors\": 24727, \"RXdropped\": 0, \"TXerrors\": 0, \"TXdropped\": 0}, \"p7p1\": {\"RXerrors\": 24727, \"RXdropped\": 0, \"TXerrors\": 0, \"TXdropped\": 0}}, \"ftbcCU01-14\": {\"bond0\": {\"RXerrors\": 1987, \"RXdropped\": 0, \"TXerrors\": 0, \"TXdropped\": 0}, \"bond1\": {\"RXerrors\": 1, \"RXdropped\": 0, \"TXerrors\": 0, \"TXdropped\": 0}, \"p7p1\": {\"RXerrors\": 1987, \"RXdropped\": 0, \"TXerrors\": 0, \"TXdropped\": 0}, \"p7p2\": {\"RXerrors\": 1, \"RXdropped\": 0, \"TXerrors\": 0, \"TXdropped\": 0}}, \"ftbcCU01-15\": {\"bond1\": {\"RXerrors\": 1, \"RXdropped\": 0, \"TXerrors\": 0, \"TXdropped\": 0}, \"p7p2\": {\"RXerrors\": 1, \"RXdropped\": 0, \"TXerrors\": 0, \"TXdropped\": 0}}, \"ftbcCU01-16\": {\"bond0\": {\"RXerrors\": 77, \"RXdropped\": 0, \"TXerrors\": 0, \"TXdropped\": 0}, \"bond1\": {\"RXerrors\": 3, \"RXdropped\": 0, \"TXerrors\": 0, \"TXdropped\": 0}, \"p4p1\": {\"RXerrors\": 1, \"RXdropped\": 0, \"TXerrors\": 0, \"TXdropped\": 0}, \"p7p1\": {\"RXerrors\": 77, \"RXdropped\": 0, \"TXerrors\": 0, \"TXdropped\": 0}, \"p7p2\": {\"RXerrors\": 3, \"RXdropped\": 0, \"TXerrors\": 0, \"TXdropped\": 0}}, \"ftbcCU01-17\": {\"bond1\": {\"RXerrors\": 1, \"RXdropped\": 0, \"TXerrors\": 0, \"TXdropped\": 0}, \"p7p2\": {\"RXerrors\": 1, \"RXdropped\": 0, \"TXerrors\": 0, \"TXdropped\": 0}}, \"ftbcCU01-22\": {\"bond1\": {\"RXerrors\": 2, \"RXdropped\": 0, \"TXerrors\": 0, \"TXdropped\": 0}, \"p7p2\": {\"RXerrors\": 2, \"RXdropped\": 0, \"TXerrors\": 0, \"TXdropped\": 0}}, \"ftbcCU01-25\": {\"bond0\": {\"RXerrors\": 7463, \"RXdropped\": 0, \"TXerrors\": 0, \"TXdropped\": 0}, \"em1\": {\"RXerrors\": 7463, \"RXdropped\": 0, \"TXerrors\": 0, \"TXdropped\": 0}}, \"kngnCU01-08\": {\"p4p1\": {\"RXerrors\": 1, \"RXdropped\": 0, \"TXerrors\": 0, \"TXdropped\": 0}}, \"kngnCU01-20\": {\"bond0\": {\"RXerrors\": 67, \"RXdropped\": 0, \"TXerrors\": 0, \"TXdropped\": 0}, \"p7p1\": {\"RXerrors\": 67, \"RXdropped\": 0, \"TXerrors\": 0, \"TXdropped\": 0}}, \"ngy1cms01-01\": {\"bond4\": {\"RXerrors\": 11, \"RXdropped\": 0, \"TXerrors\": 0, \"TXdropped\": 0}, \"p4p2\": {\"RXerrors\": 11, \"RXdropped\": 0, \"TXerrors\": 0, \"TXdropped\": 0}}, \"ngy1cms01-02\": {\"bond4\": {\"RXerrors\": 11, \"RXdropped\": 0, \"TXerrors\": 0, \"TXdropped\": 0}, \"p4p2\": {\"RXerrors\": 11, \"RXdropped\": 0, \"TXerrors\": 0, \"TXdropped\": 0}}, \"ngy1cms02-01\": {\"bond4\": {\"RXerrors\": 1, \"RXdropped\": 0, \"TXerrors\": 0, \"TXdropped\": 0}, \"p4p2\": {\"RXerrors\": 1, \"RXdropped\": 0, \"TXerrors\": 0, \"TXdropped\": 0}}, \"ngy1cms02-02\": {\"bond4\": {\"RXerrors\": 1, \"RXdropped\": 0, \"TXerrors\": 0, \"TXdropped\": 0}, \"p4p2\": {\"RXerrors\": 1, \"RXdropped\": 0, \"TXerrors\": 0, \"TXdropped\": 0}}, \"ngy1CU01-19\": {\"bond2\": {\"RXerrors\": 87, \"RXdropped\": 0, \"TXerrors\": 0, \"TXdropped\": 0}, \"p4p1\": {\"RXerrors\": 15, \"RXdropped\": 0, \"TXerrors\": 0, \"TXdropped\": 0}, \"p7p3\": {\"RXerrors\": 87, \"RXdropped\": 0, \"TXerrors\": 0, \"TXdropped\": 0}}, \"ngy1CU01-20\": {\"bond1\": {\"RXerrors\": 12, \"RXdropped\": 0, \"TXerrors\": 0, \"TXdropped\": 0}, \"p7p2\": {\"RXerrors\": 12, \"RXdropped\": 0, \"TXerrors\": 0, \"TXdropped\": 0}}, \"ngy1CU02-26\": {\"bond1\": {\"RXerrors\": 38, \"RXdropped\": 0, \"TXerrors\": 0, \"TXdropped\": 0}, \"p7p2\": {\"RXerrors\": 38, \"RXdropped\": 0, \"TXerrors\": 0, \"TXdropped\": 0}}, \"ngy1CU02-27\": {\"bond1\": {\"RXerrors\": 45, \"RXdropped\": 0, \"TXerrors\": 0, \"TXdropped\": 0}, \"p7p2\": {\"RXerrors\": 45, \"RXdropped\": 0, \"TXerrors\": 0, \"TXdropped\": 0}}, \"ngy1CU02-29\": {\"bond1\": {\"RXerrors\": 1, \"RXdropped\": 0, \"TXerrors\": 0, \"TXdropped\": 0}, \"bond2\": {\"RXerrors\": 12, \"RXdropped\": 0, \"TXerrors\": 0, \"TXdropped\": 0}, \"em2\": {\"RXerrors\": 1, \"RXdropped\": 0, \"TXerrors\": 0, \"TXdropped\": 0}, \"em3\": {\"RXerrors\": 1, \"RXdropped\": 0, \"TXerrors\": 0, \"TXdropped\": 0}, \"p7p3\": {\"RXerrors\": 11, \"RXdropped\": 0, \"TXerrors\": 0, \"TXdropped\": 0}}, \"osc1CSPS02-01\": {\"bond0\": {\"RXerrors\": 0, \"RXdropped\": 30019655, \"TXerrors\": 0, \"TXdropped\": 0}, \"bond2\": {\"RXerrors\": 0, \"RXdropped\": 31204375, \"TXerrors\": 0, \"TXdropped\": 0}, \"lbr-hb\": {\"RXerrors\": 0, \"RXdropped\": 6240875, \"TXerrors\": 0, \"TXdropped\": 0}, \"lbr-nbi\": {\"RXerrors\": 0, \"RXdropped\": 6003931, \"TXerrors\": 0, \"TXdropped\": 0}}, \"osc1CSPS02-02\": {\"bond0\": {\"RXerrors\": 0, \"RXdropped\": 80652418, \"TXerrors\": 0, \"TXdropped\": 0}, \"bond2\": {\"RXerrors\": 0, \"RXdropped\": 84104185, \"TXerrors\": 0, \"TXdropped\": 0}, \"lbr-hb\": {\"RXerrors\": 0, \"RXdropped\": 17669863, \"TXerrors\": 0, \"TXdropped\": 0}, \"lbr-nbi\": {\"RXerrors\": 0, \"RXdropped\": 16930646, \"TXerrors\": 0, \"TXdropped\": 0}}, \"osc1CU01-14\": {\"p4p1\": {\"RXerrors\": 70433153, \"RXdropped\": 0, \"TXerrors\": 0, \"TXdropped\": 0}}, \"osc1DCM02-01\": {\"bond1\": {\"RXerrors\": 0, \"RXdropped\": 2745, \"TXerrors\": 0, \"TXdropped\": 0}, \"bond0.411\": {\"RXerrors\": 0, \"RXdropped\": 5320292, \"TXerrors\": 0, \"TXdropped\": 0}, \"bond2.409\": {\"RXerrors\": 0, \"RXdropped\": 6070344, \"TXerrors\": 0, \"TXdropped\": 0}, \"em2.410\": {\"RXerrors\": 0, \"RXdropped\": 16448709, \"TXerrors\": 0, \"TXdropped\": 0}, \"p1p2\": {\"RXerrors\": 0, \"RXdropped\": 2745, \"TXerrors\": 0, \"TXdropped\": 0}, \"p2p2.410\": {\"RXerrors\": 0, \"RXdropped\": 5320293, \"TXerrors\": 0, \"TXdropped\": 0}}, \"osc1DCM02-02\": {\"bond0.411\": {\"RXerrors\": 0, \"RXdropped\": 5320835, \"TXerrors\": 0, \"TXdropped\": 0}, \"bond2.409\": {\"RXerrors\": 0, \"RXdropped\": 6070962, \"TXerrors\": 0, \"TXdropped\": 0}, \"em2.410\": {\"RXerrors\": 0, \"RXdropped\": 16449826, \"TXerrors\": 0, \"TXdropped\": 0}, \"p2p2.410\": {\"RXerrors\": 0, \"RXdropped\": 5320837, \"TXerrors\": 0, \"TXdropped\": 0}}, \"osc1DCM02-03\": {\"bond0\": {\"RXerrors\": 1, \"RXdropped\": 0, \"TXerrors\": 0, \"TXdropped\": 0}, \"bond0.411\": {\"RXerrors\": 0, \"RXdropped\": 4180598, \"TXerrors\": 0, \"TXdropped\": 0}, \"bond2.409\": {\"RXerrors\": 0, \"RXdropped\": 4729485, \"TXerrors\": 0, \"TXdropped\": 0}, \"em2.410\": {\"RXerrors\": 0, \"RXdropped\": 13844212, \"TXerrors\": 0, \"TXdropped\": 0}, \"p1p1\": {\"RXerrors\": 1, \"RXdropped\": 0, \"TXerrors\": 0, \"TXdropped\": 0}, \"p2p2.410\": {\"RXerrors\": 0, \"RXdropped\": 4179651, \"TXerrors\": 0, \"TXdropped\": 0}}, \"osc1EMS02-01\": {\"bond0\": {\"RXerrors\": 0, \"RXdropped\": 6638, \"TXerrors\": 0, \"TXdropped\": 0}, \"p1p1\": {\"RXerrors\": 0, \"RXdropped\": 6638, \"TXerrors\": 0, \"TXdropped\": 0}, \"tap303a2baa-3b\": {\"RXerrors\": 0, \"RXdropped\": 0, \"TXerrors\": 0, \"TXdropped\": 860}, \"tapd0ac5593-89\": {\"RXerrors\": 0, \"RXdropped\": 0, \"TXerrors\": 0, \"TXdropped\": 106}}, \"osc1EMS02-02\": {\"bond1\": {\"RXerrors\": 0, \"RXdropped\": 981, \"TXerrors\": 0, \"TXdropped\": 0}, \"p1p2\": {\"RXerrors\": 0, \"RXdropped\": 981, \"TXerrors\": 0, \"TXdropped\": 0}, \"tap45f82873-b4\": {\"RXerrors\": 0, \"RXdropped\": 0, \"TXerrors\": 0, \"TXdropped\": 232061}}, \"osc1EMS02-07\": {\"tape79b7566-6e\": {\"RXerrors\": 0, \"RXdropped\": 0, \"TXerrors\": 0, \"TXdropped\": 6585}}, \"osc1EMS02-08\": {\"tapa96574b5-ce\": {\"RXerrors\": 0, \"RXdropped\": 0, \"TXerrors\": 0, \"TXdropped\": 6645}}, \"osc1EMS02-09\": {\"tapb572c3ef-fe\": {\"RXerrors\": 0, \"RXdropped\": 0, \"TXerrors\": 0, \"TXdropped\": 3304}}, \"osc1EMSR01-01\": {\"bond0\": {\"RXerrors\": 0, \"RXdropped\": 177, \"TXerrors\": 0, \"TXdropped\": 0}, \"p1p1\": {\"RXerrors\": 0, \"RXdropped\": 177, \"TXerrors\": 0, \"TXdropped\": 0}, \"tap864ff716-41\": {\"RXerrors\": 0, \"RXdropped\": 0, \"TXerrors\": 0, \"TXdropped\": 532}}, \"osc1EMSR01-04\": {\"tap984136dc-c2\": {\"RXerrors\": 0, \"RXdropped\": 0, \"TXerrors\": 0, \"TXdropped\": 12964}}, \"osc1EMSR01-06\": {\"bond1\": {\"RXerrors\": 1, \"RXdropped\": 0, \"TXerrors\": 0, \"TXdropped\": 0}, \"p2p1\": {\"RXerrors\": 1, \"RXdropped\": 0, \"TXerrors\": 0, \"TXdropped\": 0}}, \"osc1EMSR01-07\": {\"tapf2590ccf-37\": {\"RXerrors\": 0, \"RXdropped\": 0, \"TXerrors\": 0, \"TXdropped\": 6352}}, \"osc1MDT02-06\": {\"em4\": {\"RXerrors\": 0, \"RXdropped\": 17829, \"TXerrors\": 0, \"TXdropped\": 0}}, \"osc1vDB0002-01\": {\"bond1\": {\"RXerrors\": 0, \"RXdropped\": 20, \"TXerrors\": 0, \"TXdropped\": 0}, \"p1p2\": {\"RXerrors\": 0, \"RXdropped\": 20, \"TXerrors\": 0, \"TXdropped\": 0}, \"tapefa9bc14-57\": {\"RXerrors\": 0, \"RXdropped\": 0, \"TXerrors\": 0, \"TXdropped\": 4705}}, \"osc1vDB0104-01\": {\"tapb5e0dde0-f3\": {\"RXerrors\": 0, \"RXdropped\": 0, \"TXerrors\": 0, \"TXdropped\": 262}}, \"osc1vDB0206-01\": {\"tap33b51873-d8\": {\"RXerrors\": 0, \"RXdropped\": 0, \"TXerrors\": 0, \"TXdropped\": 4650}}, \"osc1vDB0308-01\": {\"tap0666cd71-53\": {\"RXerrors\": 0, \"RXdropped\": 0, \"TXerrors\": 0, \"TXdropped\": 203}}, \"osc1vDB0512-01\": {\"tap1ca4e04b-26\": {\"RXerrors\": 0, \"RXdropped\": 0, \"TXerrors\": 0, \"TXdropped\": 1695}, \"tapd008c51e-12\": {\"RXerrors\": 0, \"RXdropped\": 0, \"TXerrors\": 0, \"TXdropped\": 28}}, \"osc1vDB0512-02\": {\"tapdc3ab1e9-20\": {\"RXerrors\": 0, \"RXdropped\": 0, \"TXerrors\": 0, \"TXdropped\": 1643}}, \"snr1CU01-20\": {\"bond0\": {\"RXerrors\": 25, \"RXdropped\": 0, \"TXerrors\": 0, \"TXdropped\": 0}, \"bond1\": {\"RXerrors\": 1, \"RXdropped\": 0, \"TXerrors\": 0, \"TXdropped\": 0}, \"p7p1\": {\"RXerrors\": 25, \"RXdropped\": 0, \"TXerrors\": 0, \"TXdropped\": 0}, \"p7p2\": {\"RXerrors\": 1, \"RXdropped\": 0, \"TXerrors\": 0, \"TXdropped\": 0}}, \"snr1CU01-25\": {\"bond1\": {\"RXerrors\": 1, \"RXdropped\": 0, \"TXerrors\": 0, \"TXdropped\": 0}, \"p7p2\": {\"RXerrors\": 1, \"RXdropped\": 0, \"TXerrors\": 0, \"TXdropped\": 0}}, \"stmnCU01-09\": {\"p4p2\": {\"RXerrors\": 1156, \"RXdropped\": 0, \"TXerrors\": 0, \"TXdropped\": 0}}, \"stmnCU01-18\": {\"bond2\": {\"RXerrors\": 1, \"RXdropped\": 0, \"TXerrors\": 0, \"TXdropped\": 0}, \"em3\": {\"RXerrors\": 1, \"RXdropped\": 0, \"TXerrors\": 0, \"TXdropped\": 0}}, \"tam4cms01-01\": {\"bond0\": {\"RXerrors\": 450, \"RXdropped\": 0, \"TXerrors\": 0, \"TXdropped\": 0}, \"p7p1\": {\"RXerrors\": 450, \"RXdropped\": 0, \"TXerrors\": 0, \"TXdropped\": 0}}, \"tam4CSPS01-01\": {\"bond0\": {\"RXerrors\": 7791, \"RXdropped\": 85764352, \"TXerrors\": 0, \"TXdropped\": 0}, \"bond2\": {\"RXerrors\": 0, \"RXdropped\": 89420045, \"TXerrors\": 0, \"TXdropped\": 0}, \"lbr-hb\": {\"RXerrors\": 0, \"RXdropped\": 18796168, \"TXerrors\": 0, \"TXdropped\": 0}, \"lbr-nbi\": {\"RXerrors\": 0, \"RXdropped\": 18018659, \"TXerrors\": 0, \"TXdropped\": 0}, \"p1p2\": {\"RXerrors\": 7791, \"RXdropped\": 0, \"TXerrors\": 0, \"TXdropped\": 0}}, \"tam4CSPS01-02\": {\"bond0\": {\"RXerrors\": 0, \"RXdropped\": 86004416, \"TXerrors\": 0, \"TXdropped\": 0}, \"bond2\": {\"RXerrors\": 0, \"RXdropped\": 89414811, \"TXerrors\": 0, \"TXdropped\": 0}, \"lbr-hb\": {\"RXerrors\": 0, \"RXdropped\": 18796290, \"TXerrors\": 0, \"TXdropped\": 0}, \"lbr-nbi\": {\"RXerrors\": 0, \"RXdropped\": 18069911, \"TXerrors\": 0, \"TXdropped\": 0}}, \"tam4DCM01-01\": {\"bond0\": {\"RXerrors\": 4200, \"RXdropped\": 0, \"TXerrors\": 0, \"TXdropped\": 0}, \"bond1\": {\"RXerrors\": 0, \"RXdropped\": 210, \"TXerrors\": 0, \"TXdropped\": 0}, \"p1p1\": {\"RXerrors\": 4200, \"RXdropped\": 0, \"TXerrors\": 0, \"TXdropped\": 0}, \"p1p2\": {\"RXerrors\": 0, \"RXdropped\": 210, \"TXerrors\": 0, \"TXdropped\": 0}}, \"tam4DCM01-02\": {\"bond0\": {\"RXerrors\": 1, \"RXdropped\": 0, \"TXerrors\": 0, \"TXdropped\": 0}, \"p1p1\": {\"RXerrors\": 1, \"RXdropped\": 0, \"TXerrors\": 0, \"TXdropped\": 0}}, \"tam4DCM01-04\": {\"bond0\": {\"RXerrors\": 4116, \"RXdropped\": 0, \"TXerrors\": 0, \"TXdropped\": 0}, \"p1p1\": {\"RXerrors\": 4116, \"RXdropped\": 0, \"TXerrors\": 0, \"TXdropped\": 0}}, \"tam4DCM01-05\": {\"bond0\": {\"RXerrors\": 4018, \"RXdropped\": 0, \"TXerrors\": 0, \"TXdropped\": 0}, \"p1p1\": {\"RXerrors\": 4018, \"RXdropped\": 0, \"TXerrors\": 0, \"TXdropped\": 0}}, \"tam4DCM01-06\": {\"bond0\": {\"RXerrors\": 4214, \"RXdropped\": 0, \"TXerrors\": 0, \"TXdropped\": 0}, \"p1p1\": {\"RXerrors\": 4214, \"RXdropped\": 0, \"TXerrors\": 0, \"TXdropped\": 0}}, \"tam4EMS01-01\": {\"bond0\": {\"RXerrors\": 0, \"RXdropped\": 2666, \"TXerrors\": 0, \"TXdropped\": 0}, \"p1p1\": {\"RXerrors\": 0, \"RXdropped\": 2666, \"TXerrors\": 0, \"TXdropped\": 0}, \"tapa473d6c5-35\": {\"RXerrors\": 0, \"RXdropped\": 0, \"TXerrors\": 0, \"TXdropped\": 851}, \"tapa4cf8da4-e9\": {\"RXerrors\": 0, \"RXdropped\": 0, \"TXerrors\": 0, \"TXdropped\": 377}}, \"tam4EMS01-02\": {\"bond0\": {\"RXerrors\": 11515, \"RXdropped\": 0, \"TXerrors\": 0, \"TXdropped\": 0}, \"p1p1\": {\"RXerrors\": 11515, \"RXdropped\": 0, \"TXerrors\": 0, \"TXdropped\": 0}, \"tapc9526fc8-5c\": {\"RXerrors\": 0, \"RXdropped\": 0, \"TXerrors\": 0, \"TXdropped\": 223415}}, \"tam4EMS01-03\": {\"bond0\": {\"RXerrors\": 32, \"RXdropped\": 0, \"TXerrors\": 0, \"TXdropped\": 0}, \"p1p1\": {\"RXerrors\": 32, \"RXdropped\": 0, \"TXerrors\": 0, \"TXdropped\": 0}, \"tap7f38ee0a-b1\": {\"RXerrors\": 0, \"RXdropped\": 0, \"TXerrors\": 0, \"TXdropped\": 27749}}, \"tam4EMS01-04\": {\"bond0\": {\"RXerrors\": 172, \"RXdropped\": 0, \"TXerrors\": 0, \"TXdropped\": 0}, \"p1p1\": {\"RXerrors\": 172, \"RXdropped\": 0, \"TXerrors\": 0, \"TXdropped\": 0}}, \"tam4EMS01-08\": {\"tapd2c4c33c-d9\": {\"RXerrors\": 0, \"RXdropped\": 0, \"TXerrors\": 0, \"TXdropped\": 6501}}, \"tam4EMS01-09\": {\"bond0\": {\"RXerrors\": 11618, \"RXdropped\": 0, \"TXerrors\": 0, \"TXdropped\": 0}, \"bond1\": {\"RXerrors\": 2116, \"RXdropped\": 0, \"TXerrors\": 0, \"TXdropped\": 0}, \"p1p1\": {\"RXerrors\": 11618, \"RXdropped\": 0, \"TXerrors\": 0, \"TXdropped\": 0}, \"p2p1\": {\"RXerrors\": 2116, \"RXdropped\": 0, \"TXerrors\": 0, \"TXdropped\": 0}, \"tapde4f79e5-25\": {\"RXerrors\": 0, \"RXdropped\": 0, \"TXerrors\": 0, \"TXdropped\": 33}}, \"tam4EMS01-10\": {\"bond0\": {\"RXerrors\": 20, \"RXdropped\": 0, \"TXerrors\": 0, \"TXdropped\": 0}, \"p1p1\": {\"RXerrors\": 20, \"RXdropped\": 0, \"TXerrors\": 0, \"TXdropped\": 0}}, \"tam4EMS01-11\": {\"tap2a5c02ba-63\": {\"RXerrors\": 0, \"RXdropped\": 0, \"TXerrors\": 0, \"TXdropped\": 6503}}, \"tam4EMS01-12\": {\"bond0\": {\"RXerrors\": 16677, \"RXdropped\": 0, \"TXerrors\": 0, \"TXdropped\": 0}, \"p1p1\": {\"RXerrors\": 16677, \"RXdropped\": 0, \"TXerrors\": 0, \"TXdropped\": 0}, \"tapd9e080ac-dc\": {\"RXerrors\": 0, \"RXdropped\": 0, \"TXerrors\": 0, \"TXdropped\": 66954}}, \"tam4EMS01-13\": {\"bond0\": {\"RXerrors\": 25, \"RXdropped\": 0, \"TXerrors\": 0, \"TXdropped\": 0}, \"p1p1\": {\"RXerrors\": 25, \"RXdropped\": 0, \"TXerrors\": 0, \"TXdropped\": 0}}, \"tam4EMS01-16\": {\"bond0\": {\"RXerrors\": 15, \"RXdropped\": 0, \"TXerrors\": 0, \"TXdropped\": 0}, \"p1p1\": {\"RXerrors\": 15, \"RXdropped\": 0, \"TXerrors\": 0, \"TXdropped\": 0}}, \"tam4EMS01-19\": {\"bond0\": {\"RXerrors\": 32, \"RXdropped\": 0, \"TXerrors\": 0, \"TXdropped\": 0}, \"p1p1\": {\"RXerrors\": 32, \"RXdropped\": 0, \"TXerrors\": 0, \"TXdropped\": 0}}, \"tam4EMS01-21\": {\"bond0\": {\"RXerrors\": 6, \"RXdropped\": 0, \"TXerrors\": 0, \"TXdropped\": 0}, \"p1p1\": {\"RXerrors\": 6, \"RXdropped\": 0, \"TXerrors\": 0, \"TXdropped\": 0}}, \"tam4EMSR02-01\": {\"bond0\": {\"RXerrors\": 4081, \"RXdropped\": 493, \"TXerrors\": 0, \"TXdropped\": 0}, \"p1p1\": {\"RXerrors\": 4081, \"RXdropped\": 493, \"TXerrors\": 0, \"TXdropped\": 0}}, \"tam4EMSR02-03\": {\"bond1\": {\"RXerrors\": 2, \"RXdropped\": 0, \"TXerrors\": 0, \"TXdropped\": 0}, \"p2p1\": {\"RXerrors\": 2, \"RXdropped\": 0, \"TXerrors\": 0, \"TXdropped\": 0}}, \"tam4EMSR02-04\": {\"tapadcf7943-b1\": {\"RXerrors\": 0, \"RXdropped\": 0, \"TXerrors\": 0, \"TXdropped\": 13914}}, \"tam4vDB0001-01\": {\"tap5e8f9cf0-a5\": {\"RXerrors\": 0, \"RXdropped\": 0, \"TXerrors\": 0, \"TXdropped\": 2625}, \"taped4c0b3f-e1\": {\"RXerrors\": 0, \"RXdropped\": 0, \"TXerrors\": 0, \"TXdropped\": 2919}}, \"tam4vDB0101-02\": {\"tap708bfa3f-58\": {\"RXerrors\": 0, \"RXdropped\": 0, \"TXerrors\": 0, \"TXdropped\": 2869}, \"tap757d27d1-09\": {\"RXerrors\": 0, \"RXdropped\": 0, \"TXerrors\": 0, \"TXdropped\": 2548}}, \"tam4vDB0103-01\": {\"tap1d23b046-fb\": {\"RXerrors\": 0, \"RXdropped\": 0, \"TXerrors\": 0, \"TXdropped\": 2501}}, \"tam4vDB0103-02\": {\"tap0fe085d4-be\": {\"RXerrors\": 0, \"RXdropped\": 0, \"TXerrors\": 0, \"TXdropped\": 2464}}, \"tam4vDB0205-01\": {\"tapbc65da66-21\": {\"RXerrors\": 0, \"RXdropped\": 0, \"TXerrors\": 0, \"TXdropped\": 2997}, \"tape40ef006-63\": {\"RXerrors\": 0, \"RXdropped\": 0, \"TXerrors\": 0, \"TXdropped\": 2566}}, \"tam4vDB0205-02\": {\"tap4e56295f-db\": {\"RXerrors\": 0, \"RXdropped\": 0, \"TXerrors\": 0, \"TXdropped\": 2703}}, \"tam4vDB0307-01\": {\"tap04b58246-a9\": {\"RXerrors\": 0, \"RXdropped\": 0, \"TXerrors\": 0, \"TXdropped\": 2472}, \"tap6cd00e53-2b\": {\"RXerrors\": 0, \"RXdropped\": 0, \"TXerrors\": 0, \"TXdropped\": 2785}}, \"tam4vDB0307-02\": {\"tap4a29cb1a-f8\": {\"RXerrors\": 0, \"RXdropped\": 0, \"TXerrors\": 0, \"TXdropped\": 2857}, \"tapce21e6da-97\": {\"RXerrors\": 0, \"RXdropped\": 0, \"TXerrors\": 0, \"TXdropped\": 2549}}, \"tam5sDCM01-01\": {\"bond0\": {\"RXerrors\": 4480, \"RXdropped\": 0, \"TXerrors\": 0, \"TXdropped\": 0}, \"p1p1\": {\"RXerrors\": 4480, \"RXdropped\": 0, \"TXerrors\": 0, \"TXdropped\": 0}}, \"tam5sDCM01-03\": {\"bond1\": {\"RXerrors\": 727194, \"RXdropped\": 0, \"TXerrors\": 0, \"TXdropped\": 0}, \"p2p1\": {\"RXerrors\": 727194, \"RXdropped\": 0, \"TXerrors\": 0, \"TXdropped\": 0}}, \"tam5sEMS01-01\": {\"bond0\": {\"RXerrors\": 3396, \"RXdropped\": 0, \"TXerrors\": 0, \"TXdropped\": 0}, \"p1p1\": {\"RXerrors\": 3396, \"RXdropped\": 0, \"TXerrors\": 0, \"TXdropped\": 0}, \"tapfefd183b-82\": {\"RXerrors\": 0, \"RXdropped\": 0, \"TXerrors\": 0, \"TXdropped\": 193}}, \"tam5sEMS01-02\": {\"bond0\": {\"RXerrors\": 178, \"RXdropped\": 0, \"TXerrors\": 0, \"TXdropped\": 0}, \"p1p1\": {\"RXerrors\": 178, \"RXdropped\": 0, \"TXerrors\": 0, \"TXdropped\": 0}}, \"tam5sEMSR01-01\": {\"bond0\": {\"RXerrors\": 193, \"RXdropped\": 0, \"TXerrors\": 0, \"TXdropped\": 0}, \"p1p1\": {\"RXerrors\": 193, \"RXdropped\": 0, \"TXerrors\": 0, \"TXdropped\": 0}}, \"tam5vDB0511-01\": {\"tap9407ba3f-38\": {\"RXerrors\": 0, \"RXdropped\": 0, \"TXerrors\": 0, \"TXdropped\": 3}}, \"tam5vDB0511-02\": {\"tap9b2a7e95-84\": {\"RXerrors\": 0, \"RXdropped\": 0, \"TXerrors\": 0, \"TXdropped\": 85}}, \"tkyncms01-01\": {\"bond3\": {\"RXerrors\": 1, \"RXdropped\": 0, \"TXerrors\": 0, \"TXdropped\": 0}, \"p4p1\": {\"RXerrors\": 1, \"RXdropped\": 0, \"TXerrors\": 0, \"TXdropped\": 0}, \"vnet3\": {\"RXerrors\": 0, \"RXdropped\": 0, \"TXerrors\": 0, \"TXdropped\": 20422064}, \"vnet4\": {\"RXerrors\": 0, \"RXdropped\": 0, \"TXerrors\": 0, \"TXdropped\": 60111939}, \"vnet5\": {\"RXerrors\": 0, \"RXdropped\": 0, \"TXerrors\": 0, \"TXdropped\": 219692772}}, \"tkyncms01-02\": {\"vnet3\": {\"RXerrors\": 0, \"RXdropped\": 0, \"TXerrors\": 0, \"TXdropped\": 20654148}, \"vnet4\": {\"RXerrors\": 0, \"RXdropped\": 0, \"TXerrors\": 0, \"TXdropped\": 59983425}, \"vnet5\": {\"RXerrors\": 0, \"RXdropped\": 0, \"TXerrors\": 0, \"TXdropped\": 219707950}}, \"tkynCU01-18\": {\"bond0\": {\"RXerrors\": 7415, \"RXdropped\": 0, \"TXerrors\": 0, \"TXdropped\": 0}, \"em1\": {\"RXerrors\": 7415, \"RXdropped\": 0, \"TXerrors\": 0, \"TXdropped\": 0}}}"
      ],
      "metadata": {
        "id": "sAJ65rjov1q0"
      },
      "execution_count": 98,
      "outputs": []
    },
    {
      "cell_type": "code",
      "source": [
        "from pprint import pprint"
      ],
      "metadata": {
        "id": "LlEXaLoL_wdo"
      },
      "execution_count": 80,
      "outputs": []
    },
    {
      "cell_type": "code",
      "source": [
        "if historyerrors == todayerrors:\n",
        "  print(\"데이터 변화 X\")\n",
        "else:\n",
        "  print(\"데이터 변화\")\n",
        "# else:\n",
        "#   for hostcheck in historyerrors.keys():\n",
        "    "
      ],
      "metadata": {
        "colab": {
          "base_uri": "https://localhost:8080/"
        },
        "id": "UQ5ipEXjEQ2J",
        "outputId": "6c6a959f-4759-43f1-cf78-1d5da1ebdb22"
      },
      "execution_count": 99,
      "outputs": [
        {
          "output_type": "stream",
          "name": "stdout",
          "text": [
            "데이터 변화\n"
          ]
        }
      ]
    },
    {
      "cell_type": "code",
      "source": [
        "if historyerrors == todayerrors:\n",
        "  print(\"데이터 변화 X\")\n",
        "  \n",
        "\n",
        "else:\n",
        "  print(\"데이터 변화 O\")\n",
        "\n",
        "  for historyhost in historyerrors:\n",
        "    if historyhost in todayerrors:\n",
        "      \n",
        "\n",
        "      for historyport in historyerrors[historyhost]:\n",
        "        if historyport in todayerrors[historyhost]:\n",
        "\n",
        "          print(historyhost)\n",
        "          print(historyport)\n",
        "\n",
        "          for historyerrorlog in historyerrors[historyhost][historyport]:\n",
        "            if historyerrorlog in todayerrors[historyhost][historyport]:\n",
        "              print(todayerrors[historyhost][historyport][historyerrorlog])\n",
        "              print(\"차\",todayerrors[historyhost][historyport][historyerrorlog] - historyerrors[historyhost][historyport][historyerrorlog])\n",
        "\n",
        "               \n",
        "          print(\"\\n\")\n",
        "  \n",
        "        else:\n",
        "          print(\"에러 포트 일치 X\", historyport)\n",
        "\n",
        "    else:\n",
        "      print(\"에러 호스트 네임 일치 X\", historyhost)"
      ],
      "metadata": {
        "id": "YZeUWiQZwAi1"
      },
      "execution_count": null,
      "outputs": []
    },
    {
      "cell_type": "code",
      "source": [
        "import csv\n",
        "import os\n",
        "test_file = open(\"/content/drive/MyDrive/test.txt\", \"w\", encoding=\"UTF-8\")\n",
        "error_head = \"Hostname, Netinterface, RXerror, RXerror차분, RXdropped, RXdropped차분, TXerror, TXerror차분, TXdropped, TXdropped차분\"\n",
        "test_file.write(error_head + \"\\n\")"
      ],
      "metadata": {
        "colab": {
          "base_uri": "https://localhost:8080/"
        },
        "id": "4aRNx3ux8BV5",
        "outputId": "9bb99568-d06c-4d52-bbdb-15ec43fc586b"
      },
      "execution_count": 100,
      "outputs": [
        {
          "output_type": "execute_result",
          "data": {
            "text/plain": [
              "111"
            ]
          },
          "metadata": {},
          "execution_count": 100
        }
      ]
    },
    {
      "cell_type": "code",
      "source": [
        "if historyerrors == todayerrors:\n",
        "  print(\"데이터 변화 X\")\n",
        "  \n",
        "\n",
        "\n",
        "else:\n",
        "  print(\"데이터 변화 O\")\n",
        "\n",
        "  for historyhost in historyerrors:\n",
        "    if historyhost in todayerrors:\n",
        "      \n",
        "\n",
        "      for historyport in historyerrors[historyhost]:\n",
        "        if historyport in todayerrors[historyhost]:\n",
        "\n",
        "          print(historyhost)\n",
        "          print(historyport)\n",
        "          test_file.write(historyhost + \" , \" + historyport )\n",
        "\n",
        "          for historyerrorlog in historyerrors[historyhost][historyport]:\n",
        "            if historyerrorlog in todayerrors[historyhost][historyport]:\n",
        "\n",
        "              print(todayerrors[historyhost][historyport][historyerrorlog], )\n",
        "              print(\"차\",todayerrors[historyhost][historyport][historyerrorlog] - historyerrors[historyhost][historyport][historyerrorlog])\n",
        "\n",
        "              test_file.write(' , ' + str(todayerrors[historyhost][historyport][historyerrorlog]) + \" , \")\n",
        "              test_file.write(str(todayerrors[historyhost][historyport][historyerrorlog] - historyerrors[historyhost][historyport][historyerrorlog]))\n",
        "              \n",
        "          print(\"\\n\")\n",
        "          test_file.write(\"\\n\")\n",
        "        else:\n",
        "          print(\"에러 포트 일치 X\", historyport)\n",
        "\n",
        "    else:\n",
        "      print(\"에러 호스트 네임 일치 X\", historyhost)\n",
        "test_file.close()"
      ],
      "metadata": {
        "id": "A35gxxhW76EN"
      },
      "execution_count": null,
      "outputs": []
    },
    {
      "cell_type": "code",
      "source": [
        "import pandas as pd"
      ],
      "metadata": {
        "id": "TMFrTalTPnbk"
      },
      "execution_count": 71,
      "outputs": []
    },
    {
      "cell_type": "code",
      "source": [
        "readlines_test = open(\"/content/drive/MyDrive/test.txt\", \"r\")"
      ],
      "metadata": {
        "id": "ktIXU70aUjAu"
      },
      "execution_count": 104,
      "outputs": []
    },
    {
      "cell_type": "code",
      "source": [
        "readlines_test.readlines()"
      ],
      "metadata": {
        "colab": {
          "base_uri": "https://localhost:8080/"
        },
        "id": "rTzbplFtU8v_",
        "outputId": "6da066d0-6ad2-4be2-8b8b-c7c25ce1444f"
      },
      "execution_count": 105,
      "outputs": [
        {
          "output_type": "execute_result",
          "data": {
            "text/plain": [
              "['Hostname, Netinterface, RXerror, RXerror차분, RXdropped, RXdropped차분, TXerror, TXerror차분, TXdropped, TXdropped차분\\n',\n",
              " 'ftbccms01-01 , bond0 , 5 , 0 , 0 , 0 , 0 , 0 , 0 , 0\\n',\n",
              " 'ftbccms01-01 , p7p1 , 5 , 0 , 0 , 0 , 0 , 0 , 0 , 0\\n',\n",
              " 'ftbccms01-02 , bond0 , 2268 , 0 , 0 , 0 , 0 , 0 , 0 , 0\\n',\n",
              " 'ftbccms01-02 , bond2 , 67 , 0 , 0 , 0 , 0 , 0 , 0 , 0\\n',\n",
              " 'ftbccms01-02 , p7p1 , 2268 , 0 , 0 , 0 , 0 , 0 , 0 , 0\\n',\n",
              " 'ftbccms01-02 , p7p3 , 67 , 0 , 0 , 0 , 0 , 0 , 0 , 0\\n',\n",
              " 'ftbcCU01-01 , bond0 , 2627 , 0 , 0 , 0 , 0 , 0 , 0 , 0\\n',\n",
              " 'ftbcCU01-01 , bond1 , 2 , 0 , 0 , 0 , 0 , 0 , 0 , 0\\n',\n",
              " 'ftbcCU01-01 , p7p1 , 2627 , 0 , 0 , 0 , 0 , 0 , 0 , 0\\n',\n",
              " 'ftbcCU01-01 , p7p2 , 2 , 0 , 0 , 0 , 0 , 0 , 0 , 0\\n',\n",
              " 'ftbcCU01-03 , bond0 , 77 , 0 , 0 , 0 , 0 , 0 , 0 , 0\\n',\n",
              " 'ftbcCU01-03 , p7p1 , 77 , 0 , 0 , 0 , 0 , 0 , 0 , 0\\n',\n",
              " 'ftbcCU01-06 , bond0 , 1076 , 0 , 0 , 0 , 0 , 0 , 0 , 0\\n',\n",
              " 'ftbcCU01-06 , bond1 , 4 , 0 , 0 , 0 , 0 , 0 , 0 , 0\\n',\n",
              " 'ftbcCU01-06 , p7p1 , 1076 , 0 , 0 , 0 , 0 , 0 , 0 , 0\\n',\n",
              " 'ftbcCU01-06 , p7p2 , 4 , 0 , 0 , 0 , 0 , 0 , 0 , 0\\n',\n",
              " 'ftbcCU01-07 , p4p1 , 3 , 0 , 0 , 0 , 0 , 0 , 0 , 0\\n',\n",
              " 'ftbcCU01-08 , bond0 , 80 , 0 , 0 , 0 , 0 , 0 , 0 , 0\\n',\n",
              " 'ftbcCU01-08 , bond1 , 1 , 0 , 0 , 0 , 0 , 0 , 0 , 0\\n',\n",
              " 'ftbcCU01-08 , p7p1 , 80 , 0 , 0 , 0 , 0 , 0 , 0 , 0\\n',\n",
              " 'ftbcCU01-08 , p7p2 , 1 , 0 , 0 , 0 , 0 , 0 , 0 , 0\\n',\n",
              " 'ftbcCU01-09 , bond1 , 2 , 0 , 0 , 0 , 0 , 0 , 0 , 0\\n',\n",
              " 'ftbcCU01-09 , p7p2 , 2 , 0 , 0 , 0 , 0 , 0 , 0 , 0\\n',\n",
              " 'ftbcCU01-10 , bond0 , 2396 , 0 , 0 , 0 , 0 , 0 , 0 , 0\\n',\n",
              " 'ftbcCU01-10 , bond1 , 1 , 0 , 0 , 0 , 0 , 0 , 0 , 0\\n',\n",
              " 'ftbcCU01-10 , p7p1 , 2396 , 0 , 0 , 0 , 0 , 0 , 0 , 0\\n',\n",
              " 'ftbcCU01-10 , p7p2 , 1 , 0 , 0 , 0 , 0 , 0 , 0 , 0\\n',\n",
              " 'ftbcCU01-11 , bond1 , 1 , 0 , 0 , 0 , 0 , 0 , 0 , 0\\n',\n",
              " 'ftbcCU01-11 , p7p2 , 1 , 0 , 0 , 0 , 0 , 0 , 0 , 0\\n',\n",
              " 'ftbcCU01-12 , bond0 , 24727 , 0 , 0 , 0 , 0 , 0 , 0 , 0\\n',\n",
              " 'ftbcCU01-12 , p7p1 , 24727 , 0 , 0 , 0 , 0 , 0 , 0 , 0\\n',\n",
              " 'ftbcCU01-14 , bond0 , 1987 , 0 , 0 , 0 , 0 , 0 , 0 , 0\\n',\n",
              " 'ftbcCU01-14 , bond1 , 1 , 0 , 0 , 0 , 0 , 0 , 0 , 0\\n',\n",
              " 'ftbcCU01-14 , p7p1 , 1987 , 0 , 0 , 0 , 0 , 0 , 0 , 0\\n',\n",
              " 'ftbcCU01-14 , p7p2 , 1 , 0 , 0 , 0 , 0 , 0 , 0 , 0\\n',\n",
              " 'ftbcCU01-15 , bond1 , 1 , 0 , 0 , 0 , 0 , 0 , 0 , 0\\n',\n",
              " 'ftbcCU01-15 , p7p2 , 1 , 0 , 0 , 0 , 0 , 0 , 0 , 0\\n',\n",
              " 'ftbcCU01-16 , bond0 , 77 , 0 , 0 , 0 , 0 , 0 , 0 , 0\\n',\n",
              " 'ftbcCU01-16 , bond1 , 3 , 0 , 0 , 0 , 0 , 0 , 0 , 0\\n',\n",
              " 'ftbcCU01-16 , p4p1 , 1 , 0 , 0 , 0 , 0 , 0 , 0 , 0\\n',\n",
              " 'ftbcCU01-16 , p7p1 , 77 , 0 , 0 , 0 , 0 , 0 , 0 , 0\\n',\n",
              " 'ftbcCU01-16 , p7p2 , 3 , 0 , 0 , 0 , 0 , 0 , 0 , 0\\n',\n",
              " 'ftbcCU01-17 , bond1 , 1 , 0 , 0 , 0 , 0 , 0 , 0 , 0\\n',\n",
              " 'ftbcCU01-17 , p7p2 , 1 , 0 , 0 , 0 , 0 , 0 , 0 , 0\\n',\n",
              " 'ftbcCU01-22 , bond1 , 2 , 0 , 0 , 0 , 0 , 0 , 0 , 0\\n',\n",
              " 'ftbcCU01-22 , p7p2 , 2 , 0 , 0 , 0 , 0 , 0 , 0 , 0\\n',\n",
              " 'ftbcCU01-25 , bond0 , 7463 , 302 , 0 , 0 , 0 , 0 , 0 , 0\\n',\n",
              " 'ftbcCU01-25 , em1 , 7463 , 302 , 0 , 0 , 0 , 0 , 0 , 0\\n',\n",
              " 'kngnCU01-08 , p4p1 , 1 , 0 , 0 , 0 , 0 , 0 , 0 , 0\\n',\n",
              " 'kngnCU01-20 , bond0 , 67 , 0 , 0 , 0 , 0 , 0 , 0 , 0\\n',\n",
              " 'kngnCU01-20 , p7p1 , 67 , 0 , 0 , 0 , 0 , 0 , 0 , 0\\n',\n",
              " 'ngy1cms01-01 , bond4 , 11 , 0 , 0 , 0 , 0 , 0 , 0 , 0\\n',\n",
              " 'ngy1cms01-01 , p4p2 , 11 , 0 , 0 , 0 , 0 , 0 , 0 , 0\\n',\n",
              " 'ngy1cms01-02 , bond4 , 11 , 0 , 0 , 0 , 0 , 0 , 0 , 0\\n',\n",
              " 'ngy1cms01-02 , p4p2 , 11 , 0 , 0 , 0 , 0 , 0 , 0 , 0\\n',\n",
              " 'ngy1cms02-01 , bond4 , 1 , 0 , 0 , 0 , 0 , 0 , 0 , 0\\n',\n",
              " 'ngy1cms02-01 , p4p2 , 1 , 0 , 0 , 0 , 0 , 0 , 0 , 0\\n',\n",
              " 'ngy1cms02-02 , bond4 , 1 , 0 , 0 , 0 , 0 , 0 , 0 , 0\\n',\n",
              " 'ngy1cms02-02 , p4p2 , 1 , 0 , 0 , 0 , 0 , 0 , 0 , 0\\n',\n",
              " 'ngy1CU01-19 , bond2 , 87 , 0 , 0 , 0 , 0 , 0 , 0 , 0\\n',\n",
              " 'ngy1CU01-19 , p4p1 , 15 , 0 , 0 , 0 , 0 , 0 , 0 , 0\\n',\n",
              " 'ngy1CU01-19 , p7p3 , 87 , 0 , 0 , 0 , 0 , 0 , 0 , 0\\n',\n",
              " 'ngy1CU01-20 , bond1 , 12 , 0 , 0 , 0 , 0 , 0 , 0 , 0\\n',\n",
              " 'ngy1CU01-20 , p7p2 , 12 , 0 , 0 , 0 , 0 , 0 , 0 , 0\\n',\n",
              " 'ngy1CU02-26 , bond1 , 38 , 0 , 0 , 0 , 0 , 0 , 0 , 0\\n',\n",
              " 'ngy1CU02-26 , p7p2 , 38 , 0 , 0 , 0 , 0 , 0 , 0 , 0\\n',\n",
              " 'ngy1CU02-27 , bond1 , 45 , 0 , 0 , 0 , 0 , 0 , 0 , 0\\n',\n",
              " 'ngy1CU02-27 , p7p2 , 45 , 0 , 0 , 0 , 0 , 0 , 0 , 0\\n',\n",
              " 'ngy1CU02-29 , bond1 , 1 , 0 , 0 , 0 , 0 , 0 , 0 , 0\\n',\n",
              " 'ngy1CU02-29 , bond2 , 12 , 0 , 0 , 0 , 0 , 0 , 0 , 0\\n',\n",
              " 'ngy1CU02-29 , em2 , 1 , 0 , 0 , 0 , 0 , 0 , 0 , 0\\n',\n",
              " 'ngy1CU02-29 , em3 , 1 , 0 , 0 , 0 , 0 , 0 , 0 , 0\\n',\n",
              " 'ngy1CU02-29 , p7p3 , 11 , 0 , 0 , 0 , 0 , 0 , 0 , 0\\n',\n",
              " 'osc1CSPS02-01 , bond0 , 0 , 0 , 30019655 , 0 , 0 , 0 , 0 , 0\\n',\n",
              " 'osc1CSPS02-01 , bond2 , 0 , 0 , 31204375 , 0 , 0 , 0 , 0 , 0\\n',\n",
              " 'osc1CSPS02-01 , lbr-hb , 0 , 0 , 6240875 , 0 , 0 , 0 , 0 , 0\\n',\n",
              " 'osc1CSPS02-01 , lbr-nbi , 0 , 0 , 6003931 , 0 , 0 , 0 , 0 , 0\\n',\n",
              " 'osc1CSPS02-02 , bond0 , 0 , 0 , 80652418 , 0 , 0 , 0 , 0 , 0\\n',\n",
              " 'osc1CSPS02-02 , bond2 , 0 , 0 , 84104185 , 0 , 0 , 0 , 0 , 0\\n',\n",
              " 'osc1CSPS02-02 , lbr-hb , 0 , 0 , 17669863 , 0 , 0 , 0 , 0 , 0\\n',\n",
              " 'osc1CSPS02-02 , lbr-nbi , 0 , 0 , 16930646 , 0 , 0 , 0 , 0 , 0\\n',\n",
              " 'osc1CU01-14 , p4p1 , 70433153 , 1094897 , 0 , 0 , 0 , 0 , 0 , 0\\n',\n",
              " 'osc1DCM02-01 , bond1 , 0 , 0 , 2745 , 0 , 0 , 0 , 0 , 0\\n',\n",
              " 'osc1DCM02-01 , bond0.411 , 0 , 0 , 5320292 , 0 , 0 , 0 , 0 , 0\\n',\n",
              " 'osc1DCM02-01 , bond2.409 , 0 , 0 , 6070344 , 0 , 0 , 0 , 0 , 0\\n',\n",
              " 'osc1DCM02-01 , em2.410 , 0 , 0 , 16448709 , 0 , 0 , 0 , 0 , 0\\n',\n",
              " 'osc1DCM02-01 , p1p2 , 0 , 0 , 2745 , 0 , 0 , 0 , 0 , 0\\n',\n",
              " 'osc1DCM02-01 , p2p2.410 , 0 , 0 , 5320293 , 0 , 0 , 0 , 0 , 0\\n',\n",
              " 'osc1DCM02-02 , bond0.411 , 0 , 0 , 5320835 , 0 , 0 , 0 , 0 , 0\\n',\n",
              " 'osc1DCM02-02 , bond2.409 , 0 , 0 , 6070962 , 0 , 0 , 0 , 0 , 0\\n',\n",
              " 'osc1DCM02-02 , em2.410 , 0 , 0 , 16449826 , 0 , 0 , 0 , 0 , 0\\n',\n",
              " 'osc1DCM02-02 , p2p2.410 , 0 , 0 , 5320837 , 0 , 0 , 0 , 0 , 0\\n',\n",
              " 'osc1DCM02-03 , bond0 , 1 , 0 , 0 , 0 , 0 , 0 , 0 , 0\\n',\n",
              " 'osc1DCM02-03 , bond0.411 , 0 , 0 , 4180598 , 0 , 0 , 0 , 0 , 0\\n',\n",
              " 'osc1DCM02-03 , bond2.409 , 0 , 0 , 4729485 , 0 , 0 , 0 , 0 , 0\\n',\n",
              " 'osc1DCM02-03 , em2.410 , 0 , 0 , 13844212 , 0 , 0 , 0 , 0 , 0\\n',\n",
              " 'osc1DCM02-03 , p1p1 , 1 , 0 , 0 , 0 , 0 , 0 , 0 , 0\\n',\n",
              " 'osc1DCM02-03 , p2p2.410 , 0 , 0 , 4179651 , 0 , 0 , 0 , 0 , 0\\n',\n",
              " 'osc1EMS02-01 , bond0 , 0 , 0 , 6638 , 0 , 0 , 0 , 0 , 0\\n',\n",
              " 'osc1EMS02-01 , p1p1 , 0 , 0 , 6638 , 0 , 0 , 0 , 0 , 0\\n',\n",
              " 'osc1EMS02-01 , tap303a2baa-3b , 0 , 0 , 0 , 0 , 0 , 0 , 860 , 0\\n',\n",
              " 'osc1EMS02-01 , tapd0ac5593-89 , 0 , 0 , 0 , 0 , 0 , 0 , 106 , 0\\n',\n",
              " 'osc1EMS02-02 , bond1 , 0 , 0 , 981 , 0 , 0 , 0 , 0 , 0\\n',\n",
              " 'osc1EMS02-02 , p1p2 , 0 , 0 , 981 , 0 , 0 , 0 , 0 , 0\\n',\n",
              " 'osc1EMS02-02 , tap45f82873-b4 , 0 , 0 , 0 , 0 , 0 , 0 , 232061 , 0\\n',\n",
              " 'osc1EMS02-07 , tape79b7566-6e , 0 , 0 , 0 , 0 , 0 , 0 , 6585 , 0\\n',\n",
              " 'osc1EMS02-08 , tapa96574b5-ce , 0 , 0 , 0 , 0 , 0 , 0 , 6645 , 0\\n',\n",
              " 'osc1EMS02-09 , tapb572c3ef-fe , 0 , 0 , 0 , 0 , 0 , 0 , 3304 , 0\\n',\n",
              " 'osc1EMSR01-01 , bond0 , 0 , 0 , 177 , 0 , 0 , 0 , 0 , 0\\n',\n",
              " 'osc1EMSR01-01 , p1p1 , 0 , 0 , 177 , 0 , 0 , 0 , 0 , 0\\n',\n",
              " 'osc1EMSR01-01 , tap864ff716-41 , 0 , 0 , 0 , 0 , 0 , 0 , 532 , 0\\n',\n",
              " 'osc1EMSR01-04 , tap984136dc-c2 , 0 , 0 , 0 , 0 , 0 , 0 , 12964 , 0\\n',\n",
              " 'osc1EMSR01-06 , bond1 , 1 , 0 , 0 , 0 , 0 , 0 , 0 , 0\\n',\n",
              " 'osc1EMSR01-06 , p2p1 , 1 , 0 , 0 , 0 , 0 , 0 , 0 , 0\\n',\n",
              " 'osc1EMSR01-07 , tapf2590ccf-37 , 0 , 0 , 0 , 0 , 0 , 0 , 6352 , 0\\n',\n",
              " 'osc1MDT02-06 , em4 , 0 , 0 , 17829 , 0 , 0 , 0 , 0 , 0\\n',\n",
              " 'osc1vDB0002-01 , bond1 , 0 , 0 , 20 , 0 , 0 , 0 , 0 , 0\\n',\n",
              " 'osc1vDB0002-01 , p1p2 , 0 , 0 , 20 , 0 , 0 , 0 , 0 , 0\\n',\n",
              " 'osc1vDB0002-01 , tapefa9bc14-57 , 0 , 0 , 0 , 0 , 0 , 0 , 4705 , 0\\n',\n",
              " 'osc1vDB0104-01 , tapb5e0dde0-f3 , 0 , 0 , 0 , 0 , 0 , 0 , 262 , 0\\n',\n",
              " 'osc1vDB0206-01 , tap33b51873-d8 , 0 , 0 , 0 , 0 , 0 , 0 , 4650 , 0\\n',\n",
              " 'osc1vDB0308-01 , tap0666cd71-53 , 0 , 0 , 0 , 0 , 0 , 0 , 203 , 0\\n',\n",
              " 'osc1vDB0512-01 , tap1ca4e04b-26 , 0 , 0 , 0 , 0 , 0 , 0 , 1695 , 0\\n',\n",
              " 'osc1vDB0512-01 , tapd008c51e-12 , 0 , 0 , 0 , 0 , 0 , 0 , 28 , 0\\n',\n",
              " 'osc1vDB0512-02 , tapdc3ab1e9-20 , 0 , 0 , 0 , 0 , 0 , 0 , 1643 , 0\\n',\n",
              " 'snr1CU01-20 , bond0 , 25 , 1 , 0 , 0 , 0 , 0 , 0 , 0\\n',\n",
              " 'snr1CU01-20 , bond1 , 1 , 0 , 0 , 0 , 0 , 0 , 0 , 0\\n',\n",
              " 'snr1CU01-20 , p7p1 , 25 , 1 , 0 , 0 , 0 , 0 , 0 , 0\\n',\n",
              " 'snr1CU01-20 , p7p2 , 1 , 0 , 0 , 0 , 0 , 0 , 0 , 0\\n',\n",
              " 'snr1CU01-25 , bond1 , 1 , 0 , 0 , 0 , 0 , 0 , 0 , 0\\n',\n",
              " 'snr1CU01-25 , p7p2 , 1 , 0 , 0 , 0 , 0 , 0 , 0 , 0\\n',\n",
              " 'stmnCU01-09 , p4p2 , 1156 , 17 , 0 , 0 , 0 , 0 , 0 , 0\\n',\n",
              " 'stmnCU01-18 , bond2 , 1 , 0 , 0 , 0 , 0 , 0 , 0 , 0\\n',\n",
              " 'stmnCU01-18 , em3 , 1 , 0 , 0 , 0 , 0 , 0 , 0 , 0\\n',\n",
              " 'tam4cms01-01 , bond0 , 450 , 0 , 0 , 0 , 0 , 0 , 0 , 0\\n',\n",
              " 'tam4cms01-01 , p7p1 , 450 , 0 , 0 , 0 , 0 , 0 , 0 , 0\\n',\n",
              " 'tam4CSPS01-01 , bond0 , 7791 , 0 , 85764352 , 0 , 0 , 0 , 0 , 0\\n',\n",
              " 'tam4CSPS01-01 , bond2 , 0 , 0 , 89420045 , 0 , 0 , 0 , 0 , 0\\n',\n",
              " 'tam4CSPS01-01 , lbr-hb , 0 , 0 , 18796168 , 0 , 0 , 0 , 0 , 0\\n',\n",
              " 'tam4CSPS01-01 , lbr-nbi , 0 , 0 , 18018659 , 0 , 0 , 0 , 0 , 0\\n',\n",
              " 'tam4CSPS01-01 , p1p2 , 7791 , 0 , 0 , 0 , 0 , 0 , 0 , 0\\n',\n",
              " 'tam4CSPS01-02 , bond0 , 0 , 0 , 86004416 , 0 , 0 , 0 , 0 , 0\\n',\n",
              " 'tam4CSPS01-02 , bond2 , 0 , 0 , 89414811 , 0 , 0 , 0 , 0 , 0\\n',\n",
              " 'tam4CSPS01-02 , lbr-hb , 0 , 0 , 18796290 , 0 , 0 , 0 , 0 , 0\\n',\n",
              " 'tam4CSPS01-02 , lbr-nbi , 0 , 0 , 18069911 , 0 , 0 , 0 , 0 , 0\\n',\n",
              " 'tam4DCM01-01 , bond0 , 4200 , 0 , 0 , 0 , 0 , 0 , 0 , 0\\n',\n",
              " 'tam4DCM01-01 , bond1 , 0 , 0 , 210 , 0 , 0 , 0 , 0 , 0\\n',\n",
              " 'tam4DCM01-01 , p1p1 , 4200 , 0 , 0 , 0 , 0 , 0 , 0 , 0\\n',\n",
              " 'tam4DCM01-01 , p1p2 , 0 , 0 , 210 , 0 , 0 , 0 , 0 , 0\\n',\n",
              " 'tam4DCM01-02 , bond0 , 1 , 0 , 0 , 0 , 0 , 0 , 0 , 0\\n',\n",
              " 'tam4DCM01-02 , p1p1 , 1 , 0 , 0 , 0 , 0 , 0 , 0 , 0\\n',\n",
              " 'tam4DCM01-04 , bond0 , 4116 , 0 , 0 , 0 , 0 , 0 , 0 , 0\\n',\n",
              " 'tam4DCM01-04 , p1p1 , 4116 , 0 , 0 , 0 , 0 , 0 , 0 , 0\\n',\n",
              " 'tam4DCM01-05 , bond0 , 4018 , 0 , 0 , 0 , 0 , 0 , 0 , 0\\n',\n",
              " 'tam4DCM01-05 , p1p1 , 4018 , 0 , 0 , 0 , 0 , 0 , 0 , 0\\n',\n",
              " 'tam4DCM01-06 , bond0 , 4214 , 0 , 0 , 0 , 0 , 0 , 0 , 0\\n',\n",
              " 'tam4DCM01-06 , p1p1 , 4214 , 0 , 0 , 0 , 0 , 0 , 0 , 0\\n',\n",
              " 'tam4EMS01-01 , bond0 , 0 , 0 , 2666 , 0 , 0 , 0 , 0 , 0\\n',\n",
              " 'tam4EMS01-01 , p1p1 , 0 , 0 , 2666 , 0 , 0 , 0 , 0 , 0\\n',\n",
              " 'tam4EMS01-01 , tapa473d6c5-35 , 0 , 0 , 0 , 0 , 0 , 0 , 851 , 0\\n',\n",
              " 'tam4EMS01-01 , tapa4cf8da4-e9 , 0 , 0 , 0 , 0 , 0 , 0 , 377 , 0\\n',\n",
              " 'tam4EMS01-02 , bond0 , 11515 , 0 , 0 , 0 , 0 , 0 , 0 , 0\\n',\n",
              " 'tam4EMS01-02 , p1p1 , 11515 , 0 , 0 , 0 , 0 , 0 , 0 , 0\\n',\n",
              " 'tam4EMS01-02 , tapc9526fc8-5c , 0 , 0 , 0 , 0 , 0 , 0 , 223415 , 0\\n',\n",
              " 'tam4EMS01-03 , bond0 , 32 , 0 , 0 , 0 , 0 , 0 , 0 , 0\\n',\n",
              " 'tam4EMS01-03 , p1p1 , 32 , 0 , 0 , 0 , 0 , 0 , 0 , 0\\n',\n",
              " 'tam4EMS01-03 , tap7f38ee0a-b1 , 0 , 0 , 0 , 0 , 0 , 0 , 27749 , 1378\\n',\n",
              " 'tam4EMS01-04 , bond0 , 172 , 0 , 0 , 0 , 0 , 0 , 0 , 0\\n',\n",
              " 'tam4EMS01-04 , p1p1 , 172 , 0 , 0 , 0 , 0 , 0 , 0 , 0\\n',\n",
              " 'tam4EMS01-08 , tapd2c4c33c-d9 , 0 , 0 , 0 , 0 , 0 , 0 , 6501 , 0\\n',\n",
              " 'tam4EMS01-09 , bond0 , 11618 , 0 , 0 , 0 , 0 , 0 , 0 , 0\\n',\n",
              " 'tam4EMS01-09 , bond1 , 2116 , 0 , 0 , 0 , 0 , 0 , 0 , 0\\n',\n",
              " 'tam4EMS01-09 , p1p1 , 11618 , 0 , 0 , 0 , 0 , 0 , 0 , 0\\n',\n",
              " 'tam4EMS01-09 , p2p1 , 2116 , 0 , 0 , 0 , 0 , 0 , 0 , 0\\n',\n",
              " 'tam4EMS01-09 , tapde4f79e5-25 , 0 , 0 , 0 , 0 , 0 , 0 , 33 , 0\\n',\n",
              " 'tam4EMS01-10 , bond0 , 20 , 0 , 0 , 0 , 0 , 0 , 0 , 0\\n',\n",
              " 'tam4EMS01-10 , p1p1 , 20 , 0 , 0 , 0 , 0 , 0 , 0 , 0\\n',\n",
              " 'tam4EMS01-11 , tap2a5c02ba-63 , 0 , 0 , 0 , 0 , 0 , 0 , 6503 , 0\\n',\n",
              " 'tam4EMS01-12 , bond0 , 16677 , 0 , 0 , 0 , 0 , 0 , 0 , 0\\n',\n",
              " 'tam4EMS01-12 , p1p1 , 16677 , 0 , 0 , 0 , 0 , 0 , 0 , 0\\n',\n",
              " 'tam4EMS01-12 , tapd9e080ac-dc , 0 , 0 , 0 , 0 , 0 , 0 , 66954 , 0\\n',\n",
              " 'tam4EMS01-13 , bond0 , 25 , 0 , 0 , 0 , 0 , 0 , 0 , 0\\n',\n",
              " 'tam4EMS01-13 , p1p1 , 25 , 0 , 0 , 0 , 0 , 0 , 0 , 0\\n',\n",
              " 'tam4EMS01-16 , bond0 , 15 , 0 , 0 , 0 , 0 , 0 , 0 , 0\\n',\n",
              " 'tam4EMS01-16 , p1p1 , 15 , 0 , 0 , 0 , 0 , 0 , 0 , 0\\n',\n",
              " 'tam4EMS01-19 , bond0 , 32 , 0 , 0 , 0 , 0 , 0 , 0 , 0\\n',\n",
              " 'tam4EMS01-19 , p1p1 , 32 , 0 , 0 , 0 , 0 , 0 , 0 , 0\\n',\n",
              " 'tam4EMS01-21 , bond0 , 6 , 0 , 0 , 0 , 0 , 0 , 0 , 0\\n',\n",
              " 'tam4EMS01-21 , p1p1 , 6 , 0 , 0 , 0 , 0 , 0 , 0 , 0\\n',\n",
              " 'tam4EMSR02-01 , bond0 , 4081 , 0 , 493 , 0 , 0 , 0 , 0 , 0\\n',\n",
              " 'tam4EMSR02-01 , p1p1 , 4081 , 0 , 493 , 0 , 0 , 0 , 0 , 0\\n',\n",
              " 'tam4EMSR02-03 , bond1 , 2 , 0 , 0 , 0 , 0 , 0 , 0 , 0\\n',\n",
              " 'tam4EMSR02-03 , p2p1 , 2 , 0 , 0 , 0 , 0 , 0 , 0 , 0\\n',\n",
              " 'tam4EMSR02-04 , tapadcf7943-b1 , 0 , 0 , 0 , 0 , 0 , 0 , 13914 , 0\\n',\n",
              " 'tam4vDB0001-01 , tap5e8f9cf0-a5 , 0 , 0 , 0 , 0 , 0 , 0 , 2625 , 0\\n',\n",
              " 'tam4vDB0001-01 , taped4c0b3f-e1 , 0 , 0 , 0 , 0 , 0 , 0 , 2919 , 0\\n',\n",
              " 'tam4vDB0101-02 , tap708bfa3f-58 , 0 , 0 , 0 , 0 , 0 , 0 , 2869 , 0\\n',\n",
              " 'tam4vDB0101-02 , tap757d27d1-09 , 0 , 0 , 0 , 0 , 0 , 0 , 2548 , 0\\n',\n",
              " 'tam4vDB0103-01 , tap1d23b046-fb , 0 , 0 , 0 , 0 , 0 , 0 , 2501 , 0\\n',\n",
              " 'tam4vDB0103-02 , tap0fe085d4-be , 0 , 0 , 0 , 0 , 0 , 0 , 2464 , 0\\n',\n",
              " 'tam4vDB0205-01 , tapbc65da66-21 , 0 , 0 , 0 , 0 , 0 , 0 , 2997 , 0\\n',\n",
              " 'tam4vDB0205-01 , tape40ef006-63 , 0 , 0 , 0 , 0 , 0 , 0 , 2566 , 0\\n',\n",
              " 'tam4vDB0205-02 , tap4e56295f-db , 0 , 0 , 0 , 0 , 0 , 0 , 2703 , 0\\n',\n",
              " 'tam4vDB0307-01 , tap04b58246-a9 , 0 , 0 , 0 , 0 , 0 , 0 , 2472 , 0\\n',\n",
              " 'tam4vDB0307-01 , tap6cd00e53-2b , 0 , 0 , 0 , 0 , 0 , 0 , 2785 , 0\\n',\n",
              " 'tam4vDB0307-02 , tap4a29cb1a-f8 , 0 , 0 , 0 , 0 , 0 , 0 , 2857 , 0\\n',\n",
              " 'tam4vDB0307-02 , tapce21e6da-97 , 0 , 0 , 0 , 0 , 0 , 0 , 2549 , 0\\n',\n",
              " 'tam5sDCM01-01 , bond0 , 4480 , 0 , 0 , 0 , 0 , 0 , 0 , 0\\n',\n",
              " 'tam5sDCM01-01 , p1p1 , 4480 , 0 , 0 , 0 , 0 , 0 , 0 , 0\\n',\n",
              " 'tam5sDCM01-03 , bond1 , 727194 , 0 , 0 , 0 , 0 , 0 , 0 , 0\\n',\n",
              " 'tam5sDCM01-03 , p2p1 , 727194 , 0 , 0 , 0 , 0 , 0 , 0 , 0\\n',\n",
              " 'tam5sEMS01-01 , bond0 , 3396 , 0 , 0 , 0 , 0 , 0 , 0 , 0\\n',\n",
              " 'tam5sEMS01-01 , p1p1 , 3396 , 0 , 0 , 0 , 0 , 0 , 0 , 0\\n',\n",
              " 'tam5sEMS01-01 , tapfefd183b-82 , 0 , 0 , 0 , 0 , 0 , 0 , 193 , 0\\n',\n",
              " 'tam5sEMS01-02 , bond0 , 178 , 0 , 0 , 0 , 0 , 0 , 0 , 0\\n',\n",
              " 'tam5sEMS01-02 , p1p1 , 178 , 0 , 0 , 0 , 0 , 0 , 0 , 0\\n',\n",
              " 'tam5sEMSR01-01 , bond0 , 193 , 0 , 0 , 0 , 0 , 0 , 0 , 0\\n',\n",
              " 'tam5sEMSR01-01 , p1p1 , 193 , 0 , 0 , 0 , 0 , 0 , 0 , 0\\n',\n",
              " 'tam5vDB0511-01 , tap9407ba3f-38 , 0 , 0 , 0 , 0 , 0 , 0 , 3 , 0\\n',\n",
              " 'tam5vDB0511-02 , tap9b2a7e95-84 , 0 , 0 , 0 , 0 , 0 , 0 , 85 , 0\\n',\n",
              " 'tkyncms01-01 , bond3 , 1 , 0 , 0 , 0 , 0 , 0 , 0 , 0\\n',\n",
              " 'tkyncms01-01 , p4p1 , 1 , 0 , 0 , 0 , 0 , 0 , 0 , 0\\n',\n",
              " 'tkyncms01-01 , vnet3 , 0 , 0 , 0 , 0 , 0 , 0 , 20422064 , 262917\\n',\n",
              " 'tkyncms01-01 , vnet4 , 0 , 0 , 0 , 0 , 0 , 0 , 60111939 , 780058\\n',\n",
              " 'tkyncms01-01 , vnet5 , 0 , 0 , 0 , 0 , 0 , 0 , 219692772 , 2852219\\n',\n",
              " 'tkyncms01-02 , vnet3 , 0 , 0 , 0 , 0 , 0 , 0 , 20654148 , 266059\\n',\n",
              " 'tkyncms01-02 , vnet4 , 0 , 0 , 0 , 0 , 0 , 0 , 59983425 , 778365\\n',\n",
              " 'tkyncms01-02 , vnet5 , 0 , 0 , 0 , 0 , 0 , 0 , 219707950 , 2852400\\n',\n",
              " 'tkynCU01-18 , bond0 , 7415 , 294 , 0 , 0 , 0 , 0 , 0 , 0\\n',\n",
              " 'tkynCU01-18 , em1 , 7415 , 294 , 0 , 0 , 0 , 0 , 0 , 0\\n']"
            ]
          },
          "metadata": {},
          "execution_count": 105
        }
      ]
    },
    {
      "cell_type": "code",
      "source": [
        "df = pd.read_csv(\"/content/drive/MyDrive/test.txt\" , encoding = \"UTF-8\")\n",
        "print(df)\n",
        "df.to_excel(\"excel_test.xlsx\")"
      ],
      "metadata": {
        "colab": {
          "base_uri": "https://localhost:8080/"
        },
        "id": "tl7Qw5erPtP2",
        "outputId": "7b70b6d2-110f-4ed2-abfe-a155396d832a"
      },
      "execution_count": 102,
      "outputs": [
        {
          "output_type": "stream",
          "name": "stdout",
          "text": [
            "          Hostname  Netinterface   RXerror   RXerror차분   RXdropped  \\\n",
            "0    ftbccms01-01         bond0          5           0           0   \n",
            "1    ftbccms01-01          p7p1          5           0           0   \n",
            "2    ftbccms01-02         bond0       2268           0           0   \n",
            "3    ftbccms01-02         bond2         67           0           0   \n",
            "4    ftbccms01-02          p7p1       2268           0           0   \n",
            "..             ...           ...       ...         ...         ...   \n",
            "225  tkyncms01-02         vnet3          0           0           0   \n",
            "226  tkyncms01-02         vnet4          0           0           0   \n",
            "227  tkyncms01-02         vnet5          0           0           0   \n",
            "228   tkynCU01-18         bond0       7415         294           0   \n",
            "229   tkynCU01-18           em1       7415         294           0   \n",
            "\n",
            "      RXdropped차분   TXerror   TXerror차분   TXdropped   TXdropped차분  \n",
            "0               0         0           0           0             0  \n",
            "1               0         0           0           0             0  \n",
            "2               0         0           0           0             0  \n",
            "3               0         0           0           0             0  \n",
            "4               0         0           0           0             0  \n",
            "..            ...       ...         ...         ...           ...  \n",
            "225             0         0           0    20654148        266059  \n",
            "226             0         0           0    59983425        778365  \n",
            "227             0         0           0   219707950       2852400  \n",
            "228             0         0           0           0             0  \n",
            "229             0         0           0           0             0  \n",
            "\n",
            "[230 rows x 10 columns]\n"
          ]
        }
      ]
    }
  ]
}